{
 "cells": [
  {
   "cell_type": "code",
   "execution_count": 1,
   "metadata": {},
   "outputs": [],
   "source": [
    "import pandas as pd\n",
    "import numpy as np\n",
    "import matplotlib.pyplot as plt\n",
    "from sklearn import model_selection, preprocessing\n",
    "from scipy.stats.mstats import winsorize\n",
    "import seaborn as sns"
   ]
  },
  {
   "cell_type": "code",
   "execution_count": 2,
   "metadata": {},
   "outputs": [],
   "source": [
    "df = pd.read_csv('bank-train.csv')\n",
    "df_test = pd.read_csv('bank-test.csv')\n",
    "df_validation = pd.read_csv('bank-validation.csv')"
   ]
  },
  {
   "cell_type": "code",
   "execution_count": 3,
   "metadata": {},
   "outputs": [],
   "source": [
    "\n",
    "columns_name = ['Age','Type of job','Marital status','education','credit in default','balance bank',\n",
    "                                   'has housing loan?','has personal loan?','contact communication','contact day of the month','month of year',\n",
    "                                  'contact duration','number of contacts performed during','number of days that passed','number of contacts performed',\n",
    "                                   'outcome of the previous marketing',\n",
    "                                  'client subscribed']"
   ]
  },
  {
   "cell_type": "code",
   "execution_count": 4,
   "metadata": {},
   "outputs": [
    {
     "data": {
      "text/html": [
       "<div>\n",
       "<style scoped>\n",
       "    .dataframe tbody tr th:only-of-type {\n",
       "        vertical-align: middle;\n",
       "    }\n",
       "\n",
       "    .dataframe tbody tr th {\n",
       "        vertical-align: top;\n",
       "    }\n",
       "\n",
       "    .dataframe thead th {\n",
       "        text-align: right;\n",
       "    }\n",
       "</style>\n",
       "<table border=\"1\" class=\"dataframe\">\n",
       "  <thead>\n",
       "    <tr style=\"text-align: right;\">\n",
       "      <th></th>\n",
       "      <th>47</th>\n",
       "      <th>management</th>\n",
       "      <th>divorced</th>\n",
       "      <th>tertiary</th>\n",
       "      <th>no</th>\n",
       "      <th>447</th>\n",
       "      <th>no.1</th>\n",
       "      <th>yes</th>\n",
       "      <th>unknown</th>\n",
       "      <th>7</th>\n",
       "      <th>may</th>\n",
       "      <th>126</th>\n",
       "      <th>1</th>\n",
       "      <th>-1</th>\n",
       "      <th>0</th>\n",
       "      <th>unknown.1</th>\n",
       "      <th>no.2</th>\n",
       "    </tr>\n",
       "  </thead>\n",
       "  <tbody>\n",
       "    <tr>\n",
       "      <th>0</th>\n",
       "      <td>35</td>\n",
       "      <td>management</td>\n",
       "      <td>married</td>\n",
       "      <td>tertiary</td>\n",
       "      <td>no</td>\n",
       "      <td>3161</td>\n",
       "      <td>no</td>\n",
       "      <td>no</td>\n",
       "      <td>cellular</td>\n",
       "      <td>8</td>\n",
       "      <td>aug</td>\n",
       "      <td>433</td>\n",
       "      <td>2</td>\n",
       "      <td>-1</td>\n",
       "      <td>0</td>\n",
       "      <td>unknown</td>\n",
       "      <td>no</td>\n",
       "    </tr>\n",
       "    <tr>\n",
       "      <th>1</th>\n",
       "      <td>38</td>\n",
       "      <td>admin.</td>\n",
       "      <td>married</td>\n",
       "      <td>secondary</td>\n",
       "      <td>no</td>\n",
       "      <td>46</td>\n",
       "      <td>yes</td>\n",
       "      <td>yes</td>\n",
       "      <td>unknown</td>\n",
       "      <td>6</td>\n",
       "      <td>may</td>\n",
       "      <td>195</td>\n",
       "      <td>1</td>\n",
       "      <td>-1</td>\n",
       "      <td>0</td>\n",
       "      <td>unknown</td>\n",
       "      <td>no</td>\n",
       "    </tr>\n",
       "    <tr>\n",
       "      <th>2</th>\n",
       "      <td>38</td>\n",
       "      <td>admin.</td>\n",
       "      <td>single</td>\n",
       "      <td>secondary</td>\n",
       "      <td>no</td>\n",
       "      <td>-23</td>\n",
       "      <td>no</td>\n",
       "      <td>no</td>\n",
       "      <td>cellular</td>\n",
       "      <td>20</td>\n",
       "      <td>nov</td>\n",
       "      <td>48</td>\n",
       "      <td>2</td>\n",
       "      <td>-1</td>\n",
       "      <td>0</td>\n",
       "      <td>unknown</td>\n",
       "      <td>no</td>\n",
       "    </tr>\n",
       "  </tbody>\n",
       "</table>\n",
       "</div>"
      ],
      "text/plain": [
       "   47  management divorced   tertiary  no   447 no.1  yes   unknown   7  may  \\\n",
       "0  35  management  married   tertiary  no  3161   no   no  cellular   8  aug   \n",
       "1  38      admin.  married  secondary  no    46  yes  yes   unknown   6  may   \n",
       "2  38      admin.   single  secondary  no   -23   no   no  cellular  20  nov   \n",
       "\n",
       "   126  1  -1  0 unknown.1 no.2  \n",
       "0  433  2  -1  0   unknown   no  \n",
       "1  195  1  -1  0   unknown   no  \n",
       "2   48  2  -1  0   unknown   no  "
      ]
     },
     "execution_count": 4,
     "metadata": {},
     "output_type": "execute_result"
    }
   ],
   "source": [
    "df.head(3)"
   ]
  },
  {
   "cell_type": "code",
   "execution_count": 5,
   "metadata": {},
   "outputs": [
    {
     "data": {
      "text/plain": [
       "(3720, 17)"
      ]
     },
     "execution_count": 5,
     "metadata": {},
     "output_type": "execute_result"
    }
   ],
   "source": [
    "df.shape"
   ]
  },
  {
   "cell_type": "code",
   "execution_count": 6,
   "metadata": {},
   "outputs": [],
   "source": [
    "df.columns = columns_name\n",
    "df_test.columns = columns_name\n",
    "df_validation.columns = columns_name"
   ]
  },
  {
   "cell_type": "code",
   "execution_count": 7,
   "metadata": {},
   "outputs": [
    {
     "data": {
      "text/html": [
       "<div>\n",
       "<style scoped>\n",
       "    .dataframe tbody tr th:only-of-type {\n",
       "        vertical-align: middle;\n",
       "    }\n",
       "\n",
       "    .dataframe tbody tr th {\n",
       "        vertical-align: top;\n",
       "    }\n",
       "\n",
       "    .dataframe thead th {\n",
       "        text-align: right;\n",
       "    }\n",
       "</style>\n",
       "<table border=\"1\" class=\"dataframe\">\n",
       "  <thead>\n",
       "    <tr style=\"text-align: right;\">\n",
       "      <th></th>\n",
       "      <th>Age</th>\n",
       "      <th>Type of job</th>\n",
       "      <th>Marital status</th>\n",
       "      <th>education</th>\n",
       "      <th>credit in default</th>\n",
       "      <th>balance bank</th>\n",
       "      <th>has housing loan?</th>\n",
       "      <th>has personal loan?</th>\n",
       "      <th>contact communication</th>\n",
       "      <th>contact day of the month</th>\n",
       "      <th>month of year</th>\n",
       "      <th>contact duration</th>\n",
       "      <th>number of contacts performed during</th>\n",
       "      <th>number of days that passed</th>\n",
       "      <th>number of contacts performed</th>\n",
       "      <th>outcome of the previous marketing</th>\n",
       "      <th>client subscribed</th>\n",
       "    </tr>\n",
       "  </thead>\n",
       "  <tbody>\n",
       "    <tr>\n",
       "      <th>0</th>\n",
       "      <td>35</td>\n",
       "      <td>management</td>\n",
       "      <td>married</td>\n",
       "      <td>tertiary</td>\n",
       "      <td>no</td>\n",
       "      <td>3161</td>\n",
       "      <td>no</td>\n",
       "      <td>no</td>\n",
       "      <td>cellular</td>\n",
       "      <td>8</td>\n",
       "      <td>aug</td>\n",
       "      <td>433</td>\n",
       "      <td>2</td>\n",
       "      <td>-1</td>\n",
       "      <td>0</td>\n",
       "      <td>unknown</td>\n",
       "      <td>no</td>\n",
       "    </tr>\n",
       "    <tr>\n",
       "      <th>1</th>\n",
       "      <td>38</td>\n",
       "      <td>admin.</td>\n",
       "      <td>married</td>\n",
       "      <td>secondary</td>\n",
       "      <td>no</td>\n",
       "      <td>46</td>\n",
       "      <td>yes</td>\n",
       "      <td>yes</td>\n",
       "      <td>unknown</td>\n",
       "      <td>6</td>\n",
       "      <td>may</td>\n",
       "      <td>195</td>\n",
       "      <td>1</td>\n",
       "      <td>-1</td>\n",
       "      <td>0</td>\n",
       "      <td>unknown</td>\n",
       "      <td>no</td>\n",
       "    </tr>\n",
       "    <tr>\n",
       "      <th>2</th>\n",
       "      <td>38</td>\n",
       "      <td>admin.</td>\n",
       "      <td>single</td>\n",
       "      <td>secondary</td>\n",
       "      <td>no</td>\n",
       "      <td>-23</td>\n",
       "      <td>no</td>\n",
       "      <td>no</td>\n",
       "      <td>cellular</td>\n",
       "      <td>20</td>\n",
       "      <td>nov</td>\n",
       "      <td>48</td>\n",
       "      <td>2</td>\n",
       "      <td>-1</td>\n",
       "      <td>0</td>\n",
       "      <td>unknown</td>\n",
       "      <td>no</td>\n",
       "    </tr>\n",
       "    <tr>\n",
       "      <th>3</th>\n",
       "      <td>36</td>\n",
       "      <td>technician</td>\n",
       "      <td>single</td>\n",
       "      <td>secondary</td>\n",
       "      <td>no</td>\n",
       "      <td>9149</td>\n",
       "      <td>yes</td>\n",
       "      <td>no</td>\n",
       "      <td>cellular</td>\n",
       "      <td>13</td>\n",
       "      <td>aug</td>\n",
       "      <td>141</td>\n",
       "      <td>3</td>\n",
       "      <td>-1</td>\n",
       "      <td>0</td>\n",
       "      <td>unknown</td>\n",
       "      <td>no</td>\n",
       "    </tr>\n",
       "    <tr>\n",
       "      <th>4</th>\n",
       "      <td>48</td>\n",
       "      <td>management</td>\n",
       "      <td>married</td>\n",
       "      <td>secondary</td>\n",
       "      <td>no</td>\n",
       "      <td>4415</td>\n",
       "      <td>yes</td>\n",
       "      <td>no</td>\n",
       "      <td>cellular</td>\n",
       "      <td>8</td>\n",
       "      <td>apr</td>\n",
       "      <td>1032</td>\n",
       "      <td>3</td>\n",
       "      <td>141</td>\n",
       "      <td>7</td>\n",
       "      <td>failure</td>\n",
       "      <td>yes</td>\n",
       "    </tr>\n",
       "    <tr>\n",
       "      <th>...</th>\n",
       "      <td>...</td>\n",
       "      <td>...</td>\n",
       "      <td>...</td>\n",
       "      <td>...</td>\n",
       "      <td>...</td>\n",
       "      <td>...</td>\n",
       "      <td>...</td>\n",
       "      <td>...</td>\n",
       "      <td>...</td>\n",
       "      <td>...</td>\n",
       "      <td>...</td>\n",
       "      <td>...</td>\n",
       "      <td>...</td>\n",
       "      <td>...</td>\n",
       "      <td>...</td>\n",
       "      <td>...</td>\n",
       "      <td>...</td>\n",
       "    </tr>\n",
       "    <tr>\n",
       "      <th>3715</th>\n",
       "      <td>31</td>\n",
       "      <td>technician</td>\n",
       "      <td>single</td>\n",
       "      <td>secondary</td>\n",
       "      <td>no</td>\n",
       "      <td>1014</td>\n",
       "      <td>yes</td>\n",
       "      <td>no</td>\n",
       "      <td>cellular</td>\n",
       "      <td>23</td>\n",
       "      <td>jul</td>\n",
       "      <td>158</td>\n",
       "      <td>4</td>\n",
       "      <td>-1</td>\n",
       "      <td>0</td>\n",
       "      <td>unknown</td>\n",
       "      <td>no</td>\n",
       "    </tr>\n",
       "    <tr>\n",
       "      <th>3716</th>\n",
       "      <td>51</td>\n",
       "      <td>management</td>\n",
       "      <td>single</td>\n",
       "      <td>tertiary</td>\n",
       "      <td>yes</td>\n",
       "      <td>-55</td>\n",
       "      <td>yes</td>\n",
       "      <td>no</td>\n",
       "      <td>cellular</td>\n",
       "      <td>11</td>\n",
       "      <td>may</td>\n",
       "      <td>281</td>\n",
       "      <td>2</td>\n",
       "      <td>266</td>\n",
       "      <td>6</td>\n",
       "      <td>failure</td>\n",
       "      <td>no</td>\n",
       "    </tr>\n",
       "    <tr>\n",
       "      <th>3717</th>\n",
       "      <td>36</td>\n",
       "      <td>management</td>\n",
       "      <td>single</td>\n",
       "      <td>tertiary</td>\n",
       "      <td>no</td>\n",
       "      <td>2944</td>\n",
       "      <td>no</td>\n",
       "      <td>no</td>\n",
       "      <td>cellular</td>\n",
       "      <td>18</td>\n",
       "      <td>aug</td>\n",
       "      <td>882</td>\n",
       "      <td>8</td>\n",
       "      <td>-1</td>\n",
       "      <td>0</td>\n",
       "      <td>unknown</td>\n",
       "      <td>yes</td>\n",
       "    </tr>\n",
       "    <tr>\n",
       "      <th>3718</th>\n",
       "      <td>31</td>\n",
       "      <td>admin.</td>\n",
       "      <td>single</td>\n",
       "      <td>secondary</td>\n",
       "      <td>no</td>\n",
       "      <td>757</td>\n",
       "      <td>no</td>\n",
       "      <td>no</td>\n",
       "      <td>cellular</td>\n",
       "      <td>3</td>\n",
       "      <td>feb</td>\n",
       "      <td>343</td>\n",
       "      <td>2</td>\n",
       "      <td>-1</td>\n",
       "      <td>0</td>\n",
       "      <td>unknown</td>\n",
       "      <td>no</td>\n",
       "    </tr>\n",
       "    <tr>\n",
       "      <th>3719</th>\n",
       "      <td>37</td>\n",
       "      <td>management</td>\n",
       "      <td>married</td>\n",
       "      <td>primary</td>\n",
       "      <td>no</td>\n",
       "      <td>22856</td>\n",
       "      <td>no</td>\n",
       "      <td>no</td>\n",
       "      <td>cellular</td>\n",
       "      <td>2</td>\n",
       "      <td>jul</td>\n",
       "      <td>154</td>\n",
       "      <td>1</td>\n",
       "      <td>388</td>\n",
       "      <td>1</td>\n",
       "      <td>failure</td>\n",
       "      <td>no</td>\n",
       "    </tr>\n",
       "  </tbody>\n",
       "</table>\n",
       "<p>3720 rows × 17 columns</p>\n",
       "</div>"
      ],
      "text/plain": [
       "      Age Type of job Marital status  education credit in default  \\\n",
       "0      35  management        married   tertiary                no   \n",
       "1      38      admin.        married  secondary                no   \n",
       "2      38      admin.         single  secondary                no   \n",
       "3      36  technician         single  secondary                no   \n",
       "4      48  management        married  secondary                no   \n",
       "...   ...         ...            ...        ...               ...   \n",
       "3715   31  technician         single  secondary                no   \n",
       "3716   51  management         single   tertiary               yes   \n",
       "3717   36  management         single   tertiary                no   \n",
       "3718   31      admin.         single  secondary                no   \n",
       "3719   37  management        married    primary                no   \n",
       "\n",
       "      balance bank has housing loan? has personal loan? contact communication  \\\n",
       "0             3161                no                 no              cellular   \n",
       "1               46               yes                yes               unknown   \n",
       "2              -23                no                 no              cellular   \n",
       "3             9149               yes                 no              cellular   \n",
       "4             4415               yes                 no              cellular   \n",
       "...            ...               ...                ...                   ...   \n",
       "3715          1014               yes                 no              cellular   \n",
       "3716           -55               yes                 no              cellular   \n",
       "3717          2944                no                 no              cellular   \n",
       "3718           757                no                 no              cellular   \n",
       "3719         22856                no                 no              cellular   \n",
       "\n",
       "      contact day of the month month of year  contact duration  \\\n",
       "0                            8           aug               433   \n",
       "1                            6           may               195   \n",
       "2                           20           nov                48   \n",
       "3                           13           aug               141   \n",
       "4                            8           apr              1032   \n",
       "...                        ...           ...               ...   \n",
       "3715                        23           jul               158   \n",
       "3716                        11           may               281   \n",
       "3717                        18           aug               882   \n",
       "3718                         3           feb               343   \n",
       "3719                         2           jul               154   \n",
       "\n",
       "      number of contacts performed during  number of days that passed  \\\n",
       "0                                       2                          -1   \n",
       "1                                       1                          -1   \n",
       "2                                       2                          -1   \n",
       "3                                       3                          -1   \n",
       "4                                       3                         141   \n",
       "...                                   ...                         ...   \n",
       "3715                                    4                          -1   \n",
       "3716                                    2                         266   \n",
       "3717                                    8                          -1   \n",
       "3718                                    2                          -1   \n",
       "3719                                    1                         388   \n",
       "\n",
       "      number of contacts performed outcome of the previous marketing  \\\n",
       "0                                0                           unknown   \n",
       "1                                0                           unknown   \n",
       "2                                0                           unknown   \n",
       "3                                0                           unknown   \n",
       "4                                7                           failure   \n",
       "...                            ...                               ...   \n",
       "3715                             0                           unknown   \n",
       "3716                             6                           failure   \n",
       "3717                             0                           unknown   \n",
       "3718                             0                           unknown   \n",
       "3719                             1                           failure   \n",
       "\n",
       "     client subscribed  \n",
       "0                   no  \n",
       "1                   no  \n",
       "2                   no  \n",
       "3                   no  \n",
       "4                  yes  \n",
       "...                ...  \n",
       "3715                no  \n",
       "3716                no  \n",
       "3717               yes  \n",
       "3718                no  \n",
       "3719                no  \n",
       "\n",
       "[3720 rows x 17 columns]"
      ]
     },
     "execution_count": 7,
     "metadata": {},
     "output_type": "execute_result"
    }
   ],
   "source": [
    "df"
   ]
  },
  {
   "cell_type": "code",
   "execution_count": 8,
   "metadata": {},
   "outputs": [
    {
     "data": {
      "text/plain": [
       "Age                                     int64\n",
       "Type of job                            object\n",
       "Marital status                         object\n",
       "education                              object\n",
       "credit in default                      object\n",
       "balance bank                            int64\n",
       "has housing loan?                      object\n",
       "has personal loan?                     object\n",
       "contact communication                  object\n",
       "contact day of the month                int64\n",
       "month of year                          object\n",
       "contact duration                        int64\n",
       "number of contacts performed during     int64\n",
       "number of days that passed              int64\n",
       "number of contacts performed            int64\n",
       "outcome of the previous marketing      object\n",
       "client subscribed                      object\n",
       "dtype: object"
      ]
     },
     "execution_count": 8,
     "metadata": {},
     "output_type": "execute_result"
    }
   ],
   "source": [
    "df.dtypes"
   ]
  },
  {
   "cell_type": "code",
   "execution_count": 9,
   "metadata": {},
   "outputs": [],
   "source": [
    "df[['Type of job','Marital status','education','credit in default',\n",
    "                                   'has housing loan?','has personal loan?','contact communication','month of year',\n",
    "                                   'outcome of the previous marketing',\n",
    "                                  'client subscribed']] = df[['Type of job','Marital status','education','credit in default',\n",
    "                                   'has housing loan?','has personal loan?','contact communication','month of year',\n",
    "                                   'outcome of the previous marketing',\n",
    "                                  'client subscribed']].astype(str)\n",
    "\n",
    "df_test[['Type of job','Marital status','education','credit in default',\n",
    "                                   'has housing loan?','has personal loan?','contact communication','month of year',\n",
    "                                   'outcome of the previous marketing',\n",
    "                                  'client subscribed']] = df_test[['Type of job','Marital status','education','credit in default',\n",
    "                                   'has housing loan?','has personal loan?','contact communication','month of year',\n",
    "                                   'outcome of the previous marketing',\n",
    "                                  'client subscribed']].astype(str)\n",
    "df_validation[['Type of job','Marital status','education','credit in default',\n",
    "                                   'has housing loan?','has personal loan?','contact communication','month of year',\n",
    "                                   'outcome of the previous marketing',\n",
    "                                  'client subscribed']] = df_validation[['Type of job','Marital status','education','credit in default',\n",
    "                                   'has housing loan?','has personal loan?','contact communication','month of year',\n",
    "                                   'outcome of the previous marketing',\n",
    "                                  'client subscribed']].astype(str)\n"
   ]
  },
  {
   "cell_type": "code",
   "execution_count": 10,
   "metadata": {},
   "outputs": [
    {
     "data": {
      "text/plain": [
       "Age                                     int64\n",
       "Type of job                            object\n",
       "Marital status                         object\n",
       "education                              object\n",
       "credit in default                      object\n",
       "balance bank                            int64\n",
       "has housing loan?                      object\n",
       "has personal loan?                     object\n",
       "contact communication                  object\n",
       "contact day of the month                int64\n",
       "month of year                          object\n",
       "contact duration                        int64\n",
       "number of contacts performed during     int64\n",
       "number of days that passed              int64\n",
       "number of contacts performed            int64\n",
       "outcome of the previous marketing      object\n",
       "client subscribed                      object\n",
       "dtype: object"
      ]
     },
     "execution_count": 10,
     "metadata": {},
     "output_type": "execute_result"
    }
   ],
   "source": [
    "df.dtypes"
   ]
  },
  {
   "cell_type": "code",
   "execution_count": 11,
   "metadata": {},
   "outputs": [
    {
     "name": "stdout",
     "output_type": "stream",
     "text": [
      "<class 'pandas.core.frame.DataFrame'>\n",
      "RangeIndex: 3720 entries, 0 to 3719\n",
      "Data columns (total 17 columns):\n",
      " #   Column                               Non-Null Count  Dtype \n",
      "---  ------                               --------------  ----- \n",
      " 0   Age                                  3720 non-null   int64 \n",
      " 1   Type of job                          3720 non-null   object\n",
      " 2   Marital status                       3720 non-null   object\n",
      " 3   education                            3720 non-null   object\n",
      " 4   credit in default                    3720 non-null   object\n",
      " 5   balance bank                         3720 non-null   int64 \n",
      " 6   has housing loan?                    3720 non-null   object\n",
      " 7   has personal loan?                   3720 non-null   object\n",
      " 8   contact communication                3720 non-null   object\n",
      " 9   contact day of the month             3720 non-null   int64 \n",
      " 10  month of year                        3720 non-null   object\n",
      " 11  contact duration                     3720 non-null   int64 \n",
      " 12  number of contacts performed during  3720 non-null   int64 \n",
      " 13  number of days that passed           3720 non-null   int64 \n",
      " 14  number of contacts performed         3720 non-null   int64 \n",
      " 15  outcome of the previous marketing    3720 non-null   object\n",
      " 16  client subscribed                    3720 non-null   object\n",
      "dtypes: int64(7), object(10)\n",
      "memory usage: 494.2+ KB\n"
     ]
    }
   ],
   "source": [
    "df.info()"
   ]
  },
  {
   "cell_type": "code",
   "execution_count": 12,
   "metadata": {},
   "outputs": [
    {
     "data": {
      "text/html": [
       "<div>\n",
       "<style scoped>\n",
       "    .dataframe tbody tr th:only-of-type {\n",
       "        vertical-align: middle;\n",
       "    }\n",
       "\n",
       "    .dataframe tbody tr th {\n",
       "        vertical-align: top;\n",
       "    }\n",
       "\n",
       "    .dataframe thead th {\n",
       "        text-align: right;\n",
       "    }\n",
       "</style>\n",
       "<table border=\"1\" class=\"dataframe\">\n",
       "  <thead>\n",
       "    <tr style=\"text-align: right;\">\n",
       "      <th></th>\n",
       "      <th>Age</th>\n",
       "      <th>balance bank</th>\n",
       "      <th>contact day of the month</th>\n",
       "      <th>contact duration</th>\n",
       "      <th>number of contacts performed during</th>\n",
       "      <th>number of days that passed</th>\n",
       "      <th>number of contacts performed</th>\n",
       "    </tr>\n",
       "  </thead>\n",
       "  <tbody>\n",
       "    <tr>\n",
       "      <th>count</th>\n",
       "      <td>3720.000000</td>\n",
       "      <td>3720.000000</td>\n",
       "      <td>3720.000000</td>\n",
       "      <td>3720.000000</td>\n",
       "      <td>3720.000000</td>\n",
       "      <td>3720.000000</td>\n",
       "      <td>3720.000000</td>\n",
       "    </tr>\n",
       "    <tr>\n",
       "      <th>mean</th>\n",
       "      <td>41.244892</td>\n",
       "      <td>1421.665591</td>\n",
       "      <td>15.919892</td>\n",
       "      <td>266.154570</td>\n",
       "      <td>2.826075</td>\n",
       "      <td>40.376882</td>\n",
       "      <td>0.534677</td>\n",
       "    </tr>\n",
       "    <tr>\n",
       "      <th>std</th>\n",
       "      <td>10.627450</td>\n",
       "      <td>3079.411880</td>\n",
       "      <td>8.192989</td>\n",
       "      <td>264.796305</td>\n",
       "      <td>3.196129</td>\n",
       "      <td>101.602251</td>\n",
       "      <td>1.661736</td>\n",
       "    </tr>\n",
       "    <tr>\n",
       "      <th>min</th>\n",
       "      <td>19.000000</td>\n",
       "      <td>-3313.000000</td>\n",
       "      <td>1.000000</td>\n",
       "      <td>4.000000</td>\n",
       "      <td>1.000000</td>\n",
       "      <td>-1.000000</td>\n",
       "      <td>0.000000</td>\n",
       "    </tr>\n",
       "    <tr>\n",
       "      <th>25%</th>\n",
       "      <td>33.000000</td>\n",
       "      <td>64.000000</td>\n",
       "      <td>9.000000</td>\n",
       "      <td>103.000000</td>\n",
       "      <td>1.000000</td>\n",
       "      <td>-1.000000</td>\n",
       "      <td>0.000000</td>\n",
       "    </tr>\n",
       "    <tr>\n",
       "      <th>50%</th>\n",
       "      <td>39.000000</td>\n",
       "      <td>451.000000</td>\n",
       "      <td>16.000000</td>\n",
       "      <td>184.000000</td>\n",
       "      <td>2.000000</td>\n",
       "      <td>-1.000000</td>\n",
       "      <td>0.000000</td>\n",
       "    </tr>\n",
       "    <tr>\n",
       "      <th>75%</th>\n",
       "      <td>49.000000</td>\n",
       "      <td>1471.250000</td>\n",
       "      <td>21.000000</td>\n",
       "      <td>332.000000</td>\n",
       "      <td>3.000000</td>\n",
       "      <td>-1.000000</td>\n",
       "      <td>0.000000</td>\n",
       "    </tr>\n",
       "    <tr>\n",
       "      <th>max</th>\n",
       "      <td>87.000000</td>\n",
       "      <td>71188.000000</td>\n",
       "      <td>31.000000</td>\n",
       "      <td>3025.000000</td>\n",
       "      <td>50.000000</td>\n",
       "      <td>871.000000</td>\n",
       "      <td>25.000000</td>\n",
       "    </tr>\n",
       "  </tbody>\n",
       "</table>\n",
       "</div>"
      ],
      "text/plain": [
       "               Age  balance bank  contact day of the month  contact duration  \\\n",
       "count  3720.000000   3720.000000               3720.000000       3720.000000   \n",
       "mean     41.244892   1421.665591                 15.919892        266.154570   \n",
       "std      10.627450   3079.411880                  8.192989        264.796305   \n",
       "min      19.000000  -3313.000000                  1.000000          4.000000   \n",
       "25%      33.000000     64.000000                  9.000000        103.000000   \n",
       "50%      39.000000    451.000000                 16.000000        184.000000   \n",
       "75%      49.000000   1471.250000                 21.000000        332.000000   \n",
       "max      87.000000  71188.000000                 31.000000       3025.000000   \n",
       "\n",
       "       number of contacts performed during  number of days that passed  \\\n",
       "count                          3720.000000                 3720.000000   \n",
       "mean                              2.826075                   40.376882   \n",
       "std                               3.196129                  101.602251   \n",
       "min                               1.000000                   -1.000000   \n",
       "25%                               1.000000                   -1.000000   \n",
       "50%                               2.000000                   -1.000000   \n",
       "75%                               3.000000                   -1.000000   \n",
       "max                              50.000000                  871.000000   \n",
       "\n",
       "       number of contacts performed  \n",
       "count                   3720.000000  \n",
       "mean                       0.534677  \n",
       "std                        1.661736  \n",
       "min                        0.000000  \n",
       "25%                        0.000000  \n",
       "50%                        0.000000  \n",
       "75%                        0.000000  \n",
       "max                       25.000000  "
      ]
     },
     "execution_count": 12,
     "metadata": {},
     "output_type": "execute_result"
    }
   ],
   "source": [
    "df.describe()"
   ]
  },
  {
   "cell_type": "code",
   "execution_count": 13,
   "metadata": {},
   "outputs": [
    {
     "data": {
      "text/plain": [
       "(3720, 17)"
      ]
     },
     "execution_count": 13,
     "metadata": {},
     "output_type": "execute_result"
    }
   ],
   "source": [
    "df.shape"
   ]
  },
  {
   "cell_type": "code",
   "execution_count": 14,
   "metadata": {},
   "outputs": [
    {
     "data": {
      "text/plain": [
       "Age                                    0\n",
       "Type of job                            0\n",
       "Marital status                         0\n",
       "education                              0\n",
       "credit in default                      0\n",
       "balance bank                           0\n",
       "has housing loan?                      0\n",
       "has personal loan?                     0\n",
       "contact communication                  0\n",
       "contact day of the month               0\n",
       "month of year                          0\n",
       "contact duration                       0\n",
       "number of contacts performed during    0\n",
       "number of days that passed             0\n",
       "number of contacts performed           0\n",
       "outcome of the previous marketing      0\n",
       "client subscribed                      0\n",
       "dtype: int64"
      ]
     },
     "execution_count": 14,
     "metadata": {},
     "output_type": "execute_result"
    }
   ],
   "source": [
    "df.isnull().sum()"
   ]
  },
  {
   "cell_type": "code",
   "execution_count": 15,
   "metadata": {},
   "outputs": [
    {
     "name": "stdout",
     "output_type": "stream",
     "text": [
      "0\n"
     ]
    }
   ],
   "source": [
    "duplicate = df.duplicated()\n",
    "print(duplicate.sum())"
   ]
  },
  {
   "cell_type": "code",
   "execution_count": 16,
   "metadata": {},
   "outputs": [
    {
     "name": "stdout",
     "output_type": "stream",
     "text": [
      "Age\n",
      "[35 38 36 48 29 54 53 86 39 59 40 28 34 52 68 55 47 32 43 50 49 26 27 42\n",
      " 41 33 56 73 30 24 31 46 44 37 51 58 45 57 23 67 60 22 25 80 63 75 77 19\n",
      " 64 66 65 83 71 70 61 69 20 74 81 87 78 72 79 84 62 21 76]\n",
      "------------------------------------------------------------\n",
      "Type of job\n",
      "['management' 'admin.' 'technician' 'services' 'blue-collar' 'retired'\n",
      " 'housemaid' 'entrepreneur' 'unemployed' 'student' 'self-employed'\n",
      " 'unknown']\n",
      "------------------------------------------------------------\n",
      "Marital status\n",
      "['married' 'single' 'divorced']\n",
      "------------------------------------------------------------\n",
      "education\n",
      "['tertiary' 'secondary' 'unknown' 'primary']\n",
      "------------------------------------------------------------\n",
      "credit in default\n",
      "['no' 'yes']\n",
      "------------------------------------------------------------\n",
      "balance bank\n",
      "[ 3161    46   -23 ...  1014  2944 22856]\n",
      "------------------------------------------------------------\n",
      "has housing loan?\n",
      "['no' 'yes']\n",
      "------------------------------------------------------------\n",
      "has personal loan?\n",
      "['no' 'yes']\n",
      "------------------------------------------------------------\n",
      "contact communication\n",
      "['cellular' 'unknown' 'telephone']\n",
      "------------------------------------------------------------\n",
      "contact day of the month\n",
      "[ 8  6 20 13  1 27  5 30 18 26  9 19  2 23 15  4  7 16 17 29 24 22 28 14\n",
      " 11 12 10 21  3 25 31]\n",
      "------------------------------------------------------------\n",
      "month of year\n",
      "['aug' 'may' 'nov' 'apr' 'jul' 'mar' 'jun' 'sep' 'feb' 'oct' 'jan' 'dec']\n",
      "------------------------------------------------------------\n",
      "contact duration\n",
      "[ 433  195   48  141 1032  161   21   98  121  165  142   38   70    7\n",
      "   85   65  112   37  275   96  755  249  150  353  354  994 1473  241\n",
      "  131 1165  110  204  107  114  367  528  174   57  168  120  147  288\n",
      "   28  163  119  504  245  193  314  325  198   14  567  146  632  223\n",
      "  172   94  164  551   29   36   53  217  435  134   22  185  610  124\n",
      "  184  736   76  123  218  138 1083  109  210   71  271 1225  212   82\n",
      " 1877   46  380  721   30  251  601  207  104  641  130  310   93   27\n",
      "  181  183  582  267  248  414  373  282   59   83  455 1484  541   99\n",
      "  283  219  252  298  257  630 1031  348  191  445  220  819  699  189\n",
      "  205  477  115  118  192  805    8  469  297   81  309  224  170   67\n",
      "  156  356  265  234 1994   66  558 1231   52  244  171  279  145  322\n",
      "  269  113  133  238  209  830  117  395  458  129   15  385  336   91\n",
      "  173   58  203  454   19  136   17  260  261  285  986  180   78  102\n",
      "  808  166  326  334  148   62  379  226  439  152  253  363  255  403\n",
      "  101  143  208  262  135   61  127  100  369  561  292  472   64  474\n",
      "  366  293   69  533   41  256  993  580   86  676   88  623  371  155\n",
      "  259 1407  935  304  333  239   54  331  108  816   73  302  264   80\n",
      "   97  247 1030  429  111  214  140   74  157  761  190  702  175  428\n",
      "  434    9  719  386   92  343   63  493  442  393  413  289  566  106\n",
      "  631  294  688   13  177  270   16  182  654  668  578 1608  144  803\n",
      "  758  295  554  202  227  215   31  229   84  465 1181  319  197 1149\n",
      "  392 1174  396  503  415  296  318  149  237  549  834   77   18   75\n",
      "  327  162  508  324   79  194  213  670  471  341  231   56  273 1370\n",
      "  781   72  132  387  809  622  661  483  532  339  105 1529  250  450\n",
      "  317  281  780  586  357  206  126  652  547  876  308   60   68  274\n",
      "   51  492  424  276   23  976  598  329 1441  287  423  505   89  479\n",
      "  775  186  585  411  656  525  240  284  232  806  179 1721  160  860\n",
      "  635  384  345  236  753  750   26  537  398  176  509 1139  611  221\n",
      "  446  243 1282  199  358  361  827  303 1183  712  116  427  128  560\n",
      "  767  487  299  579  228   25  222  646  167  543  151  959  406  201\n",
      "  159   47 1117  211    5  139   45  122  449  365  650  188   49  743\n",
      "  764   12  978  225  246 1516  593  158  272  796  730  178   20  501\n",
      "  328  187  984  381  235  306   44  408  330  399  470   55  770  725\n",
      "  313  389  535   33  698  307  137   87  266  347  196   90  233  405\n",
      "  426  467  619  154  291  825  103  562  594  451   32  639  490   39\n",
      "  690  523  350  323  502 1151  588  346   10  526  200  374  412   24\n",
      "  254  506  544  514  332   11  258  216 1434 1010  421  481  400 1130\n",
      "  854  857  352  574  634  169  605  410 1223 1212  524  908  452  290\n",
      "   42  500  728 1124  673  278  397  701  360 1022  263  667  476  340\n",
      "  305  342  153  441  614  684  517  463  486   34 1258  315  475  577\n",
      "  657 1740 1056  364  618  907  674  812  402  539  754  277   95  746\n",
      "  587  968  485  390 1021  779  624   50  873  929  344  464  268  431\n",
      " 1531  280 1366  242  394 1097  466  865  419   40  931 1558  230  494\n",
      "  606  664   43  836  538 1126  409 1006  375 1472  420  973  679  125\n",
      "  638  529  550 1521 1199 1156 1164  443  286  391  312  359  910 1018\n",
      "  484  644  762  351  626  570  407  633  766  700   35 1971  772  430\n",
      "  520  468  814  603  882  868  388  897  883  792  936  383  599  337\n",
      "  491  456  612 1386  349  376  301  377 1088 1143    6  417  370  473\n",
      "  311  519  709  602  738  718  655  569  497  653 1101  576 1060  651\n",
      "  682 1467  800  923  564  693  648  595  378  669 2456  915  757  773\n",
      "  321  715  744 1259  799  362  866  457  513  592  904  557  546  563\n",
      "  727  568  548  680  748 1689  590  335 1532  877  756 1504  955  998\n",
      "  510 1579  404  316  489  742  515  518  521 1028 1044 2769  640  425\n",
      "  777  527  921  732 1309  717  300  863 1173  747  965  530  600  422\n",
      "  643  609  418  432  793    4  617  722  540 1029  749  956  891  875\n",
      "  783  671 2029 1210 3025 1017  531  488 1015 1065  461  707  957  447\n",
      "  637 1168  636  720  597  681  372  436  697  665 1275  482  460  884\n",
      "  565  988  768 1236  916  798  937  320  663  785  382  555 1073  815\n",
      "  559  607  723  735  615 1735  763  731  553  971  990  716 1337  951\n",
      "  338  645 1178  765 2087]\n",
      "------------------------------------------------------------\n",
      "number of contacts performed during\n",
      "[ 2  1  3  5  8  6  7  4 18 13 14  9 24 19 10 17 12 11 21 16 44 50 23 32\n",
      " 25 22 29 30 28 15 31 20]\n",
      "------------------------------------------------------------\n",
      "number of days that passed\n",
      "[ -1 141 101  62 112 196 358 212 315 298  92 176  95 190  93 183 356 325\n",
      " 138 360 249 154 363 161 804 346 294 137  79 267  86 355 105 364  99  91\n",
      " 260 107 299 334   5  98  94 178 272   2 349 370 247 352 281 369 185  90\n",
      " 293   3 209 201  57 148 335 316 173 330 309 254 341 321 297 345 152 270\n",
      " 206 359 123 182 340 286 172 322 110 336 397 187  84 259 239 195 170 241\n",
      " 312 265 371 253 117 120 435 303 175 266 189  87  64 342 204 207 367 264\n",
      " 131 177  78 174 347 271 222 150 256 181 357 179 146 374 275 353 130 250\n",
      " 365 186 210 313 808 124 343 291 284 114 169 311 273 168 238   7  61  85\n",
      " 191 258 119 687 308 479 351 193 192 153 205 103 326 244 460 188  96  28\n",
      " 362 327 167 104  97 147 332 151  56  81 255 373 122   1 368  88 102 180\n",
      " 350 223 162 295 197 282 133 106 234 242 246  77 500  73 113 541 366 323\n",
      " 221 426 184 135 415 280 199 111 160 274  82 261 674 288 145 344 166 339\n",
      "  80 283  75 109 467 140 127 292 317 361 100 224 871 235  89 232 116 300\n",
      " 683 149  38 319 337 338 278 211  69 225  63 386 474 198 385 333 348 115\n",
      " 375 382 118 462 414 164 404 461 219  58 231 331 450 126  83 305 761 388]\n",
      "------------------------------------------------------------\n",
      "number of contacts performed\n",
      "[ 0  7  1  6  8  2  3  4  5 17 12 10  9 25 14 24 11 23 20 15 18]\n",
      "------------------------------------------------------------\n",
      "outcome of the previous marketing\n",
      "['unknown' 'failure' 'other' 'success']\n",
      "------------------------------------------------------------\n",
      "client subscribed\n",
      "['no' 'yes']\n",
      "------------------------------------------------------------\n"
     ]
    }
   ],
   "source": [
    "#unique values for each column\n",
    "for i in df.columns:\n",
    "    print(i)\n",
    "    print(df[i].unique())\n",
    "    print('---'*20)"
   ]
  },
  {
   "cell_type": "code",
   "execution_count": 17,
   "metadata": {},
   "outputs": [
    {
     "data": {
      "text/html": [
       "<div>\n",
       "<style scoped>\n",
       "    .dataframe tbody tr th:only-of-type {\n",
       "        vertical-align: middle;\n",
       "    }\n",
       "\n",
       "    .dataframe tbody tr th {\n",
       "        vertical-align: top;\n",
       "    }\n",
       "\n",
       "    .dataframe thead th {\n",
       "        text-align: right;\n",
       "    }\n",
       "</style>\n",
       "<table border=\"1\" class=\"dataframe\">\n",
       "  <thead>\n",
       "    <tr style=\"text-align: right;\">\n",
       "      <th></th>\n",
       "      <th>Feature</th>\n",
       "      <th>Number of Outliers</th>\n",
       "    </tr>\n",
       "  </thead>\n",
       "  <tbody>\n",
       "    <tr>\n",
       "      <th>0</th>\n",
       "      <td>Age</td>\n",
       "      <td>33</td>\n",
       "    </tr>\n",
       "    <tr>\n",
       "      <th>1</th>\n",
       "      <td>balance bank</td>\n",
       "      <td>405</td>\n",
       "    </tr>\n",
       "    <tr>\n",
       "      <th>2</th>\n",
       "      <td>contact day of the month</td>\n",
       "      <td>0</td>\n",
       "    </tr>\n",
       "    <tr>\n",
       "      <th>3</th>\n",
       "      <td>contact duration</td>\n",
       "      <td>272</td>\n",
       "    </tr>\n",
       "    <tr>\n",
       "      <th>4</th>\n",
       "      <td>number of contacts performed during</td>\n",
       "      <td>277</td>\n",
       "    </tr>\n",
       "    <tr>\n",
       "      <th>5</th>\n",
       "      <td>number of days that passed</td>\n",
       "      <td>673</td>\n",
       "    </tr>\n",
       "    <tr>\n",
       "      <th>6</th>\n",
       "      <td>number of contacts performed</td>\n",
       "      <td>673</td>\n",
       "    </tr>\n",
       "  </tbody>\n",
       "</table>\n",
       "</div>"
      ],
      "text/plain": [
       "                               Feature Number of Outliers\n",
       "0                                  Age                 33\n",
       "1                         balance bank                405\n",
       "2             contact day of the month                  0\n",
       "3                     contact duration                272\n",
       "4  number of contacts performed during                277\n",
       "5           number of days that passed                673\n",
       "6         number of contacts performed                673"
      ]
     },
     "execution_count": 17,
     "metadata": {},
     "output_type": "execute_result"
    }
   ],
   "source": [
    "# Function to detect outliers in every feature\n",
    "def detect_outliers(dataframe):\n",
    "    cols = list(dataframe)\n",
    "    outliers = pd.DataFrame(columns = ['Feature', 'Number of Outliers'])\n",
    "    for column in cols:\n",
    "        if column in dataframe.select_dtypes(include=np.number).columns:\n",
    "            q1 = dataframe[column].quantile(0.25)\n",
    "            q3 = dataframe[column].quantile(0.75)\n",
    "            iqr = q3 - q1\n",
    "            fence_low = q1 - (1.5*iqr)\n",
    "            fence_high = q3 + (1.5*iqr)\n",
    "            outliers = outliers.append({'Feature':column, 'Number of Outliers':dataframe.loc[(dataframe[column] < fence_low) | (dataframe[column] > fence_high)].shape[0]},ignore_index=True)\n",
    "    return outliers\n",
    "\n",
    "detect_outliers(df)"
   ]
  },
  {
   "cell_type": "code",
   "execution_count": null,
   "metadata": {},
   "outputs": [],
   "source": []
  },
  {
   "cell_type": "code",
   "execution_count": 18,
   "metadata": {},
   "outputs": [
    {
     "data": {
      "text/plain": [
       "['Age',\n",
       " 'balance bank',\n",
       " 'contact day of the month',\n",
       " 'contact duration',\n",
       " 'number of contacts performed during',\n",
       " 'number of days that passed',\n",
       " 'number of contacts performed']"
      ]
     },
     "execution_count": 18,
     "metadata": {},
     "output_type": "execute_result"
    }
   ],
   "source": [
    "### numerical\n",
    "numerical_cols = list(df.select_dtypes(exclude=['object']))\n",
    "numerical_cols"
   ]
  },
  {
   "cell_type": "code",
   "execution_count": 19,
   "metadata": {},
   "outputs": [
    {
     "data": {
      "text/plain": [
       "['Age',\n",
       " 'balance bank',\n",
       " 'contact day of the month',\n",
       " 'contact duration',\n",
       " 'number of contacts performed during',\n",
       " 'number of days that passed',\n",
       " 'number of contacts performed']"
      ]
     },
     "execution_count": 19,
     "metadata": {},
     "output_type": "execute_result"
    }
   ],
   "source": [
    "numerical_cols_test = list(df.select_dtypes(exclude=['object']))\n",
    "numerical_cols_test"
   ]
  },
  {
   "cell_type": "code",
   "execution_count": 20,
   "metadata": {},
   "outputs": [
    {
     "data": {
      "text/plain": [
       "['Type of job',\n",
       " 'Marital status',\n",
       " 'education',\n",
       " 'credit in default',\n",
       " 'has housing loan?',\n",
       " 'has personal loan?',\n",
       " 'contact communication',\n",
       " 'month of year',\n",
       " 'outcome of the previous marketing',\n",
       " 'client subscribed']"
      ]
     },
     "execution_count": 20,
     "metadata": {},
     "output_type": "execute_result"
    }
   ],
   "source": [
    "### categorical\n",
    "category_cols = list(df.select_dtypes(include=['object']))\n",
    "category_cols"
   ]
  },
  {
   "cell_type": "code",
   "execution_count": 21,
   "metadata": {},
   "outputs": [
    {
     "data": {
      "text/plain": [
       "no     3286\n",
       "yes     434\n",
       "Name: client subscribed, dtype: int64"
      ]
     },
     "execution_count": 21,
     "metadata": {},
     "output_type": "execute_result"
    }
   ],
   "source": [
    "df['client subscribed'].value_counts()"
   ]
  },
  {
   "cell_type": "code",
   "execution_count": 22,
   "metadata": {},
   "outputs": [
    {
     "data": {
      "text/plain": [
       "no     88.333333\n",
       "yes    11.666667\n",
       "Name: client subscribed, dtype: float64"
      ]
     },
     "execution_count": 22,
     "metadata": {},
     "output_type": "execute_result"
    }
   ],
   "source": [
    "\n",
    "def class_imbalance(target):\n",
    "    class_values = (target.value_counts()/target.value_counts().sum())*100\n",
    "    return class_values\n",
    "\n",
    "class_imbalance(df['client subscribed'])"
   ]
  },
  {
   "cell_type": "code",
   "execution_count": 23,
   "metadata": {},
   "outputs": [
    {
     "data": {
      "text/plain": [
       "<AxesSubplot:>"
      ]
     },
     "execution_count": 23,
     "metadata": {},
     "output_type": "execute_result"
    },
    {
     "data": {
      "image/png": "[encoded data removed]",
      "text/plain": [
       "<Figure size 432x288 with 1 Axes>"
      ]
     },
     "metadata": {
      "needs_background": "light"
     },
     "output_type": "display_data"
    }
   ],
   "source": [
    "df['client subscribed'].hist()"
   ]
  },
  {
   "cell_type": "code",
   "execution_count": 24,
   "metadata": {},
   "outputs": [
    {
     "data": {
      "text/plain": [
       "no     3286\n",
       "yes     434\n",
       "Name: client subscribed, dtype: int64"
      ]
     },
     "execution_count": 24,
     "metadata": {},
     "output_type": "execute_result"
    }
   ],
   "source": [
    "df['client subscribed'].value_counts()"
   ]
  },
  {
   "cell_type": "code",
   "execution_count": 25,
   "metadata": {},
   "outputs": [
    {
     "data": {
      "image/png": "[encoded data removed]",
      "text/plain": [
       "<Figure size 720x288 with 2 Axes>"
      ]
     },
     "metadata": {
      "needs_background": "light"
     },
     "output_type": "display_data"
    },
    {
     "data": {
      "image/png": "[encoded data removed]",
      "text/plain": [
       "<Figure size 720x288 with 2 Axes>"
      ]
     },
     "metadata": {
      "needs_background": "light"
     },
     "output_type": "display_data"
    },
    {
     "data": {
      "image/png": "[encoded data removed]",
      "text/plain": [
       "<Figure size 720x288 with 2 Axes>"
      ]
     },
     "metadata": {
      "needs_background": "light"
     },
     "output_type": "display_data"
    },
    {
     "data": {
      "image/png": "[encoded data removed]",
      "text/plain": [
       "<Figure size 720x288 with 2 Axes>"
      ]
     },
     "metadata": {
      "needs_background": "light"
     },
     "output_type": "display_data"
    },
    {
     "data": {
      "image/png": "[encoded data removed]",
      "text/plain": [
       "<Figure size 720x288 with 2 Axes>"
      ]
     },
     "metadata": {
      "needs_background": "light"
     },
     "output_type": "display_data"
    }
   ],
   "source": [
    "# Function to perform univariate analysis of categorical columns\n",
    "def plot_categorical(dataframe):\n",
    "    categorical_columns = dataframe.select_dtypes(include=['object']).columns\n",
    "    \n",
    "    for i in range(0,len(categorical_columns),2):\n",
    "            if len(categorical_columns) > i+1:\n",
    "                \n",
    "                plt.figure(figsize=(10,4))\n",
    "                plt.subplot(121)\n",
    "                dataframe[categorical_columns[i]].value_counts(normalize=True).plot(kind='bar')\n",
    "                plt.title(categorical_columns[i])\n",
    "                plt.subplot(122)     \n",
    "                dataframe[categorical_columns[i+1]].value_counts(normalize=True).plot(kind='bar')\n",
    "                plt.title(categorical_columns[i+1])\n",
    "                plt.tight_layout()\n",
    "                plt.show()\n",
    "\n",
    "            else:\n",
    "                dataframe[categorical_columns[i]].value_counts(normalize=True).plot(kind='bar')\n",
    "                plt.title(categorical_columns[i])\n",
    "        \n",
    "        \n",
    "plot = plot_categorical(df)\n",
    "plt.show()"
   ]
  },
  {
   "cell_type": "code",
   "execution_count": 26,
   "metadata": {},
   "outputs": [
    {
     "name": "stderr",
     "output_type": "stream",
     "text": [
      "C:\\Users\\monob\\anaconda3\\envs\\py37\\lib\\site-packages\\seaborn\\distributions.py:2557: FutureWarning: `distplot` is a deprecated function and will be removed in a future version. Please adapt your code to use either `displot` (a figure-level function with similar flexibility) or `histplot` (an axes-level function for histograms).\n",
      "  warnings.warn(msg, FutureWarning)\n"
     ]
    },
    {
     "data": {
      "image/png": "[encoded data removed]",
      "text/plain": [
       "<Figure size 720x288 with 2 Axes>"
      ]
     },
     "metadata": {
      "needs_background": "light"
     },
     "output_type": "display_data"
    },
    {
     "data": {
      "image/png": "[encoded data removed]",
      "text/plain": [
       "<Figure size 720x288 with 2 Axes>"
      ]
     },
     "metadata": {
      "needs_background": "light"
     },
     "output_type": "display_data"
    },
    {
     "data": {
      "image/png": "[encoded data removed]",
      "text/plain": [
       "<Figure size 720x288 with 2 Axes>"
      ]
     },
     "metadata": {
      "needs_background": "light"
     },
     "output_type": "display_data"
    },
    {
     "data": {
      "image/png": "[encoded data removed]",
      "text/plain": [
       "<Figure size 432x288 with 1 Axes>"
      ]
     },
     "metadata": {
      "needs_background": "light"
     },
     "output_type": "display_data"
    }
   ],
   "source": [
    "\n",
    "# Function to plot histograms\n",
    "def plot_continuous(dataframe):\n",
    "    numeric_columns = dataframe.select_dtypes(include=['number']).columns.tolist()\n",
    "    dataframe = dataframe[numeric_columns]\n",
    "    \n",
    "    for i in range(0,len(numeric_columns),2):\n",
    "        if len(numeric_columns) > i+1:\n",
    "            plt.figure(figsize=(10,4))\n",
    "            plt.subplot(121)\n",
    "            sns.distplot(dataframe[numeric_columns[i]], kde=False)\n",
    "            plt.subplot(122)            \n",
    "            sns.distplot(dataframe[numeric_columns[i+1]], kde=False)\n",
    "            plt.tight_layout()\n",
    "            plt.show()\n",
    "\n",
    "        else:\n",
    "            sns.distplot(dataframe[numeric_columns[i]], kde=False)\n",
    "\n",
    "plot_continuous(df)            "
   ]
  },
  {
   "cell_type": "code",
   "execution_count": 27,
   "metadata": {},
   "outputs": [
    {
     "name": "stderr",
     "output_type": "stream",
     "text": [
      "C:\\Users\\monob\\anaconda3\\envs\\py37\\lib\\site-packages\\seaborn\\_decorators.py:43: FutureWarning: Pass the following variable as a keyword arg: x. From version 0.12, the only valid positional argument will be `data`, and passing other arguments without an explicit keyword will result in an error or misinterpretation.\n",
      "  FutureWarning\n"
     ]
    },
    {
     "data": {
      "image/png": "[encoded data removed]",
      "text/plain": [
       "<Figure size 1080x360 with 2 Axes>"
      ]
     },
     "metadata": {
      "needs_background": "light"
     },
     "output_type": "display_data"
    },
    {
     "name": "stderr",
     "output_type": "stream",
     "text": [
      "C:\\Users\\monob\\anaconda3\\envs\\py37\\lib\\site-packages\\seaborn\\_decorators.py:43: FutureWarning: Pass the following variable as a keyword arg: x. From version 0.12, the only valid positional argument will be `data`, and passing other arguments without an explicit keyword will result in an error or misinterpretation.\n",
      "  FutureWarning\n"
     ]
    },
    {
     "data": {
      "image/png": "[encoded data removed]",
      "text/plain": [
       "<Figure size 1080x360 with 2 Axes>"
      ]
     },
     "metadata": {
      "needs_background": "light"
     },
     "output_type": "display_data"
    },
    {
     "name": "stderr",
     "output_type": "stream",
     "text": [
      "C:\\Users\\monob\\anaconda3\\envs\\py37\\lib\\site-packages\\seaborn\\_decorators.py:43: FutureWarning: Pass the following variable as a keyword arg: x. From version 0.12, the only valid positional argument will be `data`, and passing other arguments without an explicit keyword will result in an error or misinterpretation.\n",
      "  FutureWarning\n"
     ]
    },
    {
     "data": {
      "image/png": "[encoded data removed]",
      "text/plain": [
       "<Figure size 1080x360 with 2 Axes>"
      ]
     },
     "metadata": {
      "needs_background": "light"
     },
     "output_type": "display_data"
    },
    {
     "name": "stderr",
     "output_type": "stream",
     "text": [
      "C:\\Users\\monob\\anaconda3\\envs\\py37\\lib\\site-packages\\seaborn\\_decorators.py:43: FutureWarning: Pass the following variable as a keyword arg: x. From version 0.12, the only valid positional argument will be `data`, and passing other arguments without an explicit keyword will result in an error or misinterpretation.\n",
      "  FutureWarning\n"
     ]
    },
    {
     "data": {
      "image/png": "[encoded data removed]",
      "text/plain": [
       "<Figure size 1080x360 with 2 Axes>"
      ]
     },
     "metadata": {
      "needs_background": "light"
     },
     "output_type": "display_data"
    },
    {
     "name": "stderr",
     "output_type": "stream",
     "text": [
      "C:\\Users\\monob\\anaconda3\\envs\\py37\\lib\\site-packages\\seaborn\\_decorators.py:43: FutureWarning: Pass the following variable as a keyword arg: x. From version 0.12, the only valid positional argument will be `data`, and passing other arguments without an explicit keyword will result in an error or misinterpretation.\n",
      "  FutureWarning\n"
     ]
    },
    {
     "data": {
      "image/png": "[encoded data removed]",
      "text/plain": [
       "<Figure size 1080x360 with 2 Axes>"
      ]
     },
     "metadata": {
      "needs_background": "light"
     },
     "output_type": "display_data"
    }
   ],
   "source": [
    "def target_categorical(dataframe,target):\n",
    "    categorical_columns = dataframe.select_dtypes(exclude=np.number).columns\n",
    "    for i in range(0,len(categorical_columns),2):\n",
    "        if len(categorical_columns) > i+1:\n",
    "            plt.figure(figsize=(15,5))\n",
    "            plt.subplot(121)\n",
    "            sns.countplot(x=dataframe[categorical_columns[i]],hue=target,data=dataframe)\n",
    "            plt.xticks(rotation=90)\n",
    "            plt.subplot(122)            \n",
    "            sns.countplot(dataframe[categorical_columns[i+1]],hue=target,data=dataframe)\n",
    "            plt.xticks(rotation=90)\n",
    "            plt.tight_layout()\n",
    "            plt.show()\n",
    "\n",
    "\n",
    "target_categorical(df,df['client subscribed'])"
   ]
  },
  {
   "cell_type": "code",
   "execution_count": 28,
   "metadata": {},
   "outputs": [],
   "source": [
    "df2 = df"
   ]
  },
  {
   "cell_type": "code",
   "execution_count": 29,
   "metadata": {},
   "outputs": [],
   "source": [
    "df2['contact duration'] = df2['contact duration'].apply(lambda n:n/60).round(2)\n",
    "#df_test['contact duration'] = df_test['contact duration'].apply(lambda n:n/60).round(2)\n",
    "#df_validation['contact duration'] = df_validation['contact duration'].apply(lambda n:n/60).round(2)"
   ]
  },
  {
   "cell_type": "code",
   "execution_count": null,
   "metadata": {},
   "outputs": [],
   "source": []
  },
  {
   "cell_type": "code",
   "execution_count": 30,
   "metadata": {},
   "outputs": [
    {
     "data": {
      "text/plain": [
       "0        7.22\n",
       "1        3.25\n",
       "2        0.80\n",
       "3        2.35\n",
       "4       17.20\n",
       "        ...  \n",
       "3715     2.63\n",
       "3716     4.68\n",
       "3717    14.70\n",
       "3718     5.72\n",
       "3719     2.57\n",
       "Name: contact duration, Length: 3720, dtype: float64"
      ]
     },
     "execution_count": 30,
     "metadata": {},
     "output_type": "execute_result"
    }
   ],
   "source": [
    "df2['contact duration']"
   ]
  },
  {
   "cell_type": "code",
   "execution_count": 31,
   "metadata": {},
   "outputs": [
    {
     "data": {
      "image/png": "[encoded data removed]",
      "text/plain": [
       "<Figure size 432x288 with 1 Axes>"
      ]
     },
     "metadata": {
      "needs_background": "light"
     },
     "output_type": "display_data"
    }
   ],
   "source": [
    "duration_campaign = sns.scatterplot(x='contact duration', y='number of contacts performed during',data = df,\n",
    "                     hue = 'client subscribed')\n",
    "\n",
    "plt.axis([0,65,0,65])\n",
    "plt.ylabel('Number  Calls')\n",
    "plt.xlabel('Duration  Calls ')\n",
    "plt.title(' Number and Duration of Calls')\n",
    "# Annotation\n",
    "plt.show()"
   ]
  },
  {
   "cell_type": "code",
   "execution_count": 32,
   "metadata": {},
   "outputs": [],
   "source": [
    "#Function to treat outliers \n",
    "def treat_outliers(dataframe):\n",
    "    cols = list(dataframe)\n",
    "    for col in cols:\n",
    "        if col in dataframe.select_dtypes(include=np.number).columns:\n",
    "            dataframe[col] = winsorize(dataframe[col], limits=[0.05, 0.1],inclusive=(True, True))\n",
    "    \n",
    "    return dataframe    \n",
    "\n",
    "\n",
    "df = treat_outliers(df)\n",
    "df_test = treat_outliers(df_test)\n",
    "df_validation = treat_outliers(df_validation)"
   ]
  },
  {
   "cell_type": "code",
   "execution_count": 33,
   "metadata": {},
   "outputs": [
    {
     "data": {
      "text/html": [
       "<div>\n",
       "<style scoped>\n",
       "    .dataframe tbody tr th:only-of-type {\n",
       "        vertical-align: middle;\n",
       "    }\n",
       "\n",
       "    .dataframe tbody tr th {\n",
       "        vertical-align: top;\n",
       "    }\n",
       "\n",
       "    .dataframe thead th {\n",
       "        text-align: right;\n",
       "    }\n",
       "</style>\n",
       "<table border=\"1\" class=\"dataframe\">\n",
       "  <thead>\n",
       "    <tr style=\"text-align: right;\">\n",
       "      <th></th>\n",
       "      <th>Age</th>\n",
       "      <th>Type of job</th>\n",
       "      <th>Marital status</th>\n",
       "      <th>education</th>\n",
       "      <th>credit in default</th>\n",
       "      <th>balance bank</th>\n",
       "      <th>has housing loan?</th>\n",
       "      <th>has personal loan?</th>\n",
       "      <th>contact communication</th>\n",
       "      <th>contact day of the month</th>\n",
       "      <th>month of year</th>\n",
       "      <th>contact duration</th>\n",
       "      <th>number of contacts performed during</th>\n",
       "      <th>number of days that passed</th>\n",
       "      <th>number of contacts performed</th>\n",
       "      <th>outcome of the previous marketing</th>\n",
       "      <th>client subscribed</th>\n",
       "    </tr>\n",
       "  </thead>\n",
       "  <tbody>\n",
       "    <tr>\n",
       "      <th>0</th>\n",
       "      <td>35</td>\n",
       "      <td>management</td>\n",
       "      <td>married</td>\n",
       "      <td>tertiary</td>\n",
       "      <td>no</td>\n",
       "      <td>3161</td>\n",
       "      <td>no</td>\n",
       "      <td>no</td>\n",
       "      <td>cellular</td>\n",
       "      <td>8</td>\n",
       "      <td>aug</td>\n",
       "      <td>7.22</td>\n",
       "      <td>2</td>\n",
       "      <td>-1</td>\n",
       "      <td>0</td>\n",
       "      <td>unknown</td>\n",
       "      <td>no</td>\n",
       "    </tr>\n",
       "    <tr>\n",
       "      <th>1</th>\n",
       "      <td>38</td>\n",
       "      <td>admin.</td>\n",
       "      <td>married</td>\n",
       "      <td>secondary</td>\n",
       "      <td>no</td>\n",
       "      <td>46</td>\n",
       "      <td>yes</td>\n",
       "      <td>yes</td>\n",
       "      <td>unknown</td>\n",
       "      <td>6</td>\n",
       "      <td>may</td>\n",
       "      <td>3.25</td>\n",
       "      <td>1</td>\n",
       "      <td>-1</td>\n",
       "      <td>0</td>\n",
       "      <td>unknown</td>\n",
       "      <td>no</td>\n",
       "    </tr>\n",
       "    <tr>\n",
       "      <th>2</th>\n",
       "      <td>38</td>\n",
       "      <td>admin.</td>\n",
       "      <td>single</td>\n",
       "      <td>secondary</td>\n",
       "      <td>no</td>\n",
       "      <td>-23</td>\n",
       "      <td>no</td>\n",
       "      <td>no</td>\n",
       "      <td>cellular</td>\n",
       "      <td>20</td>\n",
       "      <td>nov</td>\n",
       "      <td>0.80</td>\n",
       "      <td>2</td>\n",
       "      <td>-1</td>\n",
       "      <td>0</td>\n",
       "      <td>unknown</td>\n",
       "      <td>no</td>\n",
       "    </tr>\n",
       "    <tr>\n",
       "      <th>3</th>\n",
       "      <td>36</td>\n",
       "      <td>technician</td>\n",
       "      <td>single</td>\n",
       "      <td>secondary</td>\n",
       "      <td>no</td>\n",
       "      <td>3792</td>\n",
       "      <td>yes</td>\n",
       "      <td>no</td>\n",
       "      <td>cellular</td>\n",
       "      <td>13</td>\n",
       "      <td>aug</td>\n",
       "      <td>2.35</td>\n",
       "      <td>3</td>\n",
       "      <td>-1</td>\n",
       "      <td>0</td>\n",
       "      <td>unknown</td>\n",
       "      <td>no</td>\n",
       "    </tr>\n",
       "    <tr>\n",
       "      <th>4</th>\n",
       "      <td>48</td>\n",
       "      <td>management</td>\n",
       "      <td>married</td>\n",
       "      <td>secondary</td>\n",
       "      <td>no</td>\n",
       "      <td>3792</td>\n",
       "      <td>yes</td>\n",
       "      <td>no</td>\n",
       "      <td>cellular</td>\n",
       "      <td>8</td>\n",
       "      <td>apr</td>\n",
       "      <td>9.78</td>\n",
       "      <td>3</td>\n",
       "      <td>141</td>\n",
       "      <td>2</td>\n",
       "      <td>failure</td>\n",
       "      <td>yes</td>\n",
       "    </tr>\n",
       "  </tbody>\n",
       "</table>\n",
       "</div>"
      ],
      "text/plain": [
       "   Age Type of job Marital status  education credit in default  balance bank  \\\n",
       "0   35  management        married   tertiary                no          3161   \n",
       "1   38      admin.        married  secondary                no            46   \n",
       "2   38      admin.         single  secondary                no           -23   \n",
       "3   36  technician         single  secondary                no          3792   \n",
       "4   48  management        married  secondary                no          3792   \n",
       "\n",
       "  has housing loan? has personal loan? contact communication  \\\n",
       "0                no                 no              cellular   \n",
       "1               yes                yes               unknown   \n",
       "2                no                 no              cellular   \n",
       "3               yes                 no              cellular   \n",
       "4               yes                 no              cellular   \n",
       "\n",
       "   contact day of the month month of year  contact duration  \\\n",
       "0                         8           aug              7.22   \n",
       "1                         6           may              3.25   \n",
       "2                        20           nov              0.80   \n",
       "3                        13           aug              2.35   \n",
       "4                         8           apr              9.78   \n",
       "\n",
       "   number of contacts performed during  number of days that passed  \\\n",
       "0                                    2                          -1   \n",
       "1                                    1                          -1   \n",
       "2                                    2                          -1   \n",
       "3                                    3                          -1   \n",
       "4                                    3                         141   \n",
       "\n",
       "   number of contacts performed outcome of the previous marketing  \\\n",
       "0                             0                           unknown   \n",
       "1                             0                           unknown   \n",
       "2                             0                           unknown   \n",
       "3                             0                           unknown   \n",
       "4                             2                           failure   \n",
       "\n",
       "  client subscribed  \n",
       "0                no  \n",
       "1                no  \n",
       "2                no  \n",
       "3                no  \n",
       "4               yes  "
      ]
     },
     "execution_count": 33,
     "metadata": {},
     "output_type": "execute_result"
    }
   ],
   "source": [
    "df.head()"
   ]
  },
  {
   "cell_type": "code",
   "execution_count": 34,
   "metadata": {},
   "outputs": [],
   "source": [
    "def convertcategory(df):\n",
    "    '''\n",
    "    Convert the categorical dataframe into numerical dataframe\n",
    "    \n",
    "    Argument:\n",
    "    df -- name of the dataframe\n",
    "    \n",
    "    Return:\n",
    "    imp_df -- a dataframe replacing the category values into numerical values\n",
    "    '''\n",
    "    imp_df = df\n",
    "\n",
    "    for f in imp_df.columns:\n",
    "        if imp_df[f].dtype== 'object':\n",
    "            lbl = preprocessing.LabelEncoder()\n",
    "            lbl.fit(list(imp_df[f].values))\n",
    "            imp_df[f] = lbl.transform(list(imp_df[f].values))\n",
    "            \n",
    "    return imp_df"
   ]
  },
  {
   "cell_type": "code",
   "execution_count": 35,
   "metadata": {},
   "outputs": [],
   "source": [
    "#preprocessing\n",
    "df = convertcategory(df)\n",
    "df_test = convertcategory(df_test)\n",
    "df_validation = convertcategory(df_validation)\n"
   ]
  },
  {
   "cell_type": "code",
   "execution_count": 36,
   "metadata": {},
   "outputs": [],
   "source": [
    "\n",
    "from sklearn.compose import ColumnTransformer\n",
    "from sklearn.preprocessing import StandardScaler\n",
    "\n",
    "features = df[numerical_cols]\n",
    "\n",
    "ct = ColumnTransformer([\n",
    "        ('somename', StandardScaler(), numerical_cols)\n",
    "    ], remainder='passthrough')\n",
    "\n",
    "\n",
    "features = ct.fit_transform(features)\n",
    "df[numerical_cols] = features\n",
    "\n",
    "\n",
    "features2 = df_test[numerical_cols]\n",
    "\n",
    "\n",
    "features2 = ct.fit_transform(features2)\n",
    "df_test[numerical_cols] = features2\n",
    "\n",
    "features3 = df_validation[numerical_cols]\n",
    "\n",
    "\n",
    "features3 = ct.fit_transform(features3)\n",
    "df_validation[numerical_cols] = features3\n",
    "\n"
   ]
  },
  {
   "cell_type": "code",
   "execution_count": 37,
   "metadata": {},
   "outputs": [
    {
     "data": {
      "text/html": [
       "<div>\n",
       "<style scoped>\n",
       "    .dataframe tbody tr th:only-of-type {\n",
       "        vertical-align: middle;\n",
       "    }\n",
       "\n",
       "    .dataframe tbody tr th {\n",
       "        vertical-align: top;\n",
       "    }\n",
       "\n",
       "    .dataframe thead th {\n",
       "        text-align: right;\n",
       "    }\n",
       "</style>\n",
       "<table border=\"1\" class=\"dataframe\">\n",
       "  <thead>\n",
       "    <tr style=\"text-align: right;\">\n",
       "      <th></th>\n",
       "      <th>Age</th>\n",
       "      <th>Type of job</th>\n",
       "      <th>Marital status</th>\n",
       "      <th>education</th>\n",
       "      <th>credit in default</th>\n",
       "      <th>balance bank</th>\n",
       "      <th>has housing loan?</th>\n",
       "      <th>has personal loan?</th>\n",
       "      <th>contact communication</th>\n",
       "      <th>contact day of the month</th>\n",
       "      <th>month of year</th>\n",
       "      <th>contact duration</th>\n",
       "      <th>number of contacts performed during</th>\n",
       "      <th>number of days that passed</th>\n",
       "      <th>number of contacts performed</th>\n",
       "      <th>outcome of the previous marketing</th>\n",
       "      <th>client subscribed</th>\n",
       "    </tr>\n",
       "  </thead>\n",
       "  <tbody>\n",
       "    <tr>\n",
       "      <th>0</th>\n",
       "      <td>-0.625390</td>\n",
       "      <td>4</td>\n",
       "      <td>1</td>\n",
       "      <td>2</td>\n",
       "      <td>0</td>\n",
       "      <td>1.710259</td>\n",
       "      <td>0</td>\n",
       "      <td>0</td>\n",
       "      <td>0</td>\n",
       "      <td>-0.988999</td>\n",
       "      <td>1</td>\n",
       "      <td>1.143451</td>\n",
       "      <td>-0.257847</td>\n",
       "      <td>-0.451182</td>\n",
       "      <td>-0.447344</td>\n",
       "      <td>3</td>\n",
       "      <td>0</td>\n",
       "    </tr>\n",
       "    <tr>\n",
       "      <th>1</th>\n",
       "      <td>-0.301372</td>\n",
       "      <td>0</td>\n",
       "      <td>1</td>\n",
       "      <td>1</td>\n",
       "      <td>0</td>\n",
       "      <td>-0.760287</td>\n",
       "      <td>1</td>\n",
       "      <td>1</td>\n",
       "      <td>2</td>\n",
       "      <td>-1.242474</td>\n",
       "      <td>8</td>\n",
       "      <td>-0.241608</td>\n",
       "      <td>-0.868018</td>\n",
       "      <td>-0.451182</td>\n",
       "      <td>-0.447344</td>\n",
       "      <td>3</td>\n",
       "      <td>0</td>\n",
       "    </tr>\n",
       "    <tr>\n",
       "      <th>2</th>\n",
       "      <td>-0.301372</td>\n",
       "      <td>0</td>\n",
       "      <td>2</td>\n",
       "      <td>1</td>\n",
       "      <td>0</td>\n",
       "      <td>-0.815012</td>\n",
       "      <td>0</td>\n",
       "      <td>0</td>\n",
       "      <td>0</td>\n",
       "      <td>0.531856</td>\n",
       "      <td>9</td>\n",
       "      <td>-1.096367</td>\n",
       "      <td>-0.257847</td>\n",
       "      <td>-0.451182</td>\n",
       "      <td>-0.447344</td>\n",
       "      <td>3</td>\n",
       "      <td>0</td>\n",
       "    </tr>\n",
       "  </tbody>\n",
       "</table>\n",
       "</div>"
      ],
      "text/plain": [
       "        Age  Type of job  Marital status  education  credit in default  \\\n",
       "0 -0.625390            4               1          2                  0   \n",
       "1 -0.301372            0               1          1                  0   \n",
       "2 -0.301372            0               2          1                  0   \n",
       "\n",
       "   balance bank  has housing loan?  has personal loan?  contact communication  \\\n",
       "0      1.710259                  0                   0                      0   \n",
       "1     -0.760287                  1                   1                      2   \n",
       "2     -0.815012                  0                   0                      0   \n",
       "\n",
       "   contact day of the month  month of year  contact duration  \\\n",
       "0                 -0.988999              1          1.143451   \n",
       "1                 -1.242474              8         -0.241608   \n",
       "2                  0.531856              9         -1.096367   \n",
       "\n",
       "   number of contacts performed during  number of days that passed  \\\n",
       "0                            -0.257847                   -0.451182   \n",
       "1                            -0.868018                   -0.451182   \n",
       "2                            -0.257847                   -0.451182   \n",
       "\n",
       "   number of contacts performed  outcome of the previous marketing  \\\n",
       "0                     -0.447344                                  3   \n",
       "1                     -0.447344                                  3   \n",
       "2                     -0.447344                                  3   \n",
       "\n",
       "   client subscribed  \n",
       "0                  0  \n",
       "1                  0  \n",
       "2                  0  "
      ]
     },
     "execution_count": 37,
     "metadata": {},
     "output_type": "execute_result"
    }
   ],
   "source": [
    "df.head(3)"
   ]
  },
  {
   "cell_type": "code",
   "execution_count": 65,
   "metadata": {},
   "outputs": [],
   "source": [
    "def CorrData(input_df):\n",
    "\n",
    " \n",
    "    sns.heatmap(df[numerical_cols].corr(),annot=True,cmap = 'Blues',linewidths=0.2) #data.corr()-->correlation matrix\n",
    "    fig=plt.gcf()\n",
    "    fig.set_size_inches(18,8)\n",
    "    plt.show()"
   ]
  },
  {
   "cell_type": "code",
   "execution_count": 66,
   "metadata": {},
   "outputs": [
    {
     "data": {
      "text/html": [
       "<div>\n",
       "<style scoped>\n",
       "    .dataframe tbody tr th:only-of-type {\n",
       "        vertical-align: middle;\n",
       "    }\n",
       "\n",
       "    .dataframe tbody tr th {\n",
       "        vertical-align: top;\n",
       "    }\n",
       "\n",
       "    .dataframe thead th {\n",
       "        text-align: right;\n",
       "    }\n",
       "</style>\n",
       "<table border=\"1\" class=\"dataframe\">\n",
       "  <thead>\n",
       "    <tr style=\"text-align: right;\">\n",
       "      <th></th>\n",
       "      <th>Age</th>\n",
       "      <th>balance bank</th>\n",
       "      <th>contact day of the month</th>\n",
       "      <th>contact duration</th>\n",
       "      <th>number of contacts performed during</th>\n",
       "      <th>number of days that passed</th>\n",
       "      <th>number of contacts performed</th>\n",
       "    </tr>\n",
       "  </thead>\n",
       "  <tbody>\n",
       "    <tr>\n",
       "      <th>0</th>\n",
       "      <td>-0.625390</td>\n",
       "      <td>1.710259</td>\n",
       "      <td>-0.988999</td>\n",
       "      <td>1.143451</td>\n",
       "      <td>-0.257847</td>\n",
       "      <td>-0.451182</td>\n",
       "      <td>-0.447344</td>\n",
       "    </tr>\n",
       "    <tr>\n",
       "      <th>1</th>\n",
       "      <td>-0.301372</td>\n",
       "      <td>-0.760287</td>\n",
       "      <td>-1.242474</td>\n",
       "      <td>-0.241608</td>\n",
       "      <td>-0.868018</td>\n",
       "      <td>-0.451182</td>\n",
       "      <td>-0.447344</td>\n",
       "    </tr>\n",
       "    <tr>\n",
       "      <th>2</th>\n",
       "      <td>-0.301372</td>\n",
       "      <td>-0.815012</td>\n",
       "      <td>0.531856</td>\n",
       "      <td>-1.096367</td>\n",
       "      <td>-0.257847</td>\n",
       "      <td>-0.451182</td>\n",
       "      <td>-0.447344</td>\n",
       "    </tr>\n",
       "    <tr>\n",
       "      <th>3</th>\n",
       "      <td>-0.517384</td>\n",
       "      <td>2.210713</td>\n",
       "      <td>-0.355309</td>\n",
       "      <td>-0.555601</td>\n",
       "      <td>0.352325</td>\n",
       "      <td>-0.451182</td>\n",
       "      <td>-0.447344</td>\n",
       "    </tr>\n",
       "    <tr>\n",
       "      <th>4</th>\n",
       "      <td>0.778689</td>\n",
       "      <td>2.210713</td>\n",
       "      <td>-0.988999</td>\n",
       "      <td>2.036586</td>\n",
       "      <td>0.352325</td>\n",
       "      <td>1.788195</td>\n",
       "      <td>2.561916</td>\n",
       "    </tr>\n",
       "    <tr>\n",
       "      <th>...</th>\n",
       "      <td>...</td>\n",
       "      <td>...</td>\n",
       "      <td>...</td>\n",
       "      <td>...</td>\n",
       "      <td>...</td>\n",
       "      <td>...</td>\n",
       "      <td>...</td>\n",
       "    </tr>\n",
       "    <tr>\n",
       "      <th>3715</th>\n",
       "      <td>-1.057414</td>\n",
       "      <td>0.007446</td>\n",
       "      <td>0.912070</td>\n",
       "      <td>-0.457914</td>\n",
       "      <td>0.962496</td>\n",
       "      <td>-0.451182</td>\n",
       "      <td>-0.447344</td>\n",
       "    </tr>\n",
       "    <tr>\n",
       "      <th>3716</th>\n",
       "      <td>1.102707</td>\n",
       "      <td>-0.840391</td>\n",
       "      <td>-0.608785</td>\n",
       "      <td>0.257292</td>\n",
       "      <td>-0.257847</td>\n",
       "      <td>2.450546</td>\n",
       "      <td>2.561916</td>\n",
       "    </tr>\n",
       "    <tr>\n",
       "      <th>3717</th>\n",
       "      <td>-0.517384</td>\n",
       "      <td>1.538154</td>\n",
       "      <td>0.278381</td>\n",
       "      <td>2.036586</td>\n",
       "      <td>2.182838</td>\n",
       "      <td>-0.451182</td>\n",
       "      <td>-0.447344</td>\n",
       "    </tr>\n",
       "    <tr>\n",
       "      <th>3718</th>\n",
       "      <td>-1.057414</td>\n",
       "      <td>-0.196384</td>\n",
       "      <td>-1.622688</td>\n",
       "      <td>0.620129</td>\n",
       "      <td>-0.257847</td>\n",
       "      <td>-0.451182</td>\n",
       "      <td>-0.447344</td>\n",
       "    </tr>\n",
       "    <tr>\n",
       "      <th>3719</th>\n",
       "      <td>-0.409378</td>\n",
       "      <td>2.210713</td>\n",
       "      <td>-1.622688</td>\n",
       "      <td>-0.478847</td>\n",
       "      <td>-0.868018</td>\n",
       "      <td>2.450546</td>\n",
       "      <td>1.057286</td>\n",
       "    </tr>\n",
       "  </tbody>\n",
       "</table>\n",
       "<p>3720 rows × 7 columns</p>\n",
       "</div>"
      ],
      "text/plain": [
       "           Age  balance bank  contact day of the month  contact duration  \\\n",
       "0    -0.625390      1.710259                 -0.988999          1.143451   \n",
       "1    -0.301372     -0.760287                 -1.242474         -0.241608   \n",
       "2    -0.301372     -0.815012                  0.531856         -1.096367   \n",
       "3    -0.517384      2.210713                 -0.355309         -0.555601   \n",
       "4     0.778689      2.210713                 -0.988999          2.036586   \n",
       "...        ...           ...                       ...               ...   \n",
       "3715 -1.057414      0.007446                  0.912070         -0.457914   \n",
       "3716  1.102707     -0.840391                 -0.608785          0.257292   \n",
       "3717 -0.517384      1.538154                  0.278381          2.036586   \n",
       "3718 -1.057414     -0.196384                 -1.622688          0.620129   \n",
       "3719 -0.409378      2.210713                 -1.622688         -0.478847   \n",
       "\n",
       "      number of contacts performed during  number of days that passed  \\\n",
       "0                               -0.257847                   -0.451182   \n",
       "1                               -0.868018                   -0.451182   \n",
       "2                               -0.257847                   -0.451182   \n",
       "3                                0.352325                   -0.451182   \n",
       "4                                0.352325                    1.788195   \n",
       "...                                   ...                         ...   \n",
       "3715                             0.962496                   -0.451182   \n",
       "3716                            -0.257847                    2.450546   \n",
       "3717                             2.182838                   -0.451182   \n",
       "3718                            -0.257847                   -0.451182   \n",
       "3719                            -0.868018                    2.450546   \n",
       "\n",
       "      number of contacts performed  \n",
       "0                        -0.447344  \n",
       "1                        -0.447344  \n",
       "2                        -0.447344  \n",
       "3                        -0.447344  \n",
       "4                         2.561916  \n",
       "...                            ...  \n",
       "3715                     -0.447344  \n",
       "3716                      2.561916  \n",
       "3717                     -0.447344  \n",
       "3718                     -0.447344  \n",
       "3719                      1.057286  \n",
       "\n",
       "[3720 rows x 7 columns]"
      ]
     },
     "execution_count": 66,
     "metadata": {},
     "output_type": "execute_result"
    }
   ],
   "source": [
    "tt = df[numerical_cols]\n",
    "tt"
   ]
  },
  {
   "cell_type": "code",
   "execution_count": 67,
   "metadata": {},
   "outputs": [
    {
     "data": {
      "image/png": "[encoded data removed]",
      "text/plain": [
       "<Figure size 1296x576 with 2 Axes>"
      ]
     },
     "metadata": {
      "needs_background": "light"
     },
     "output_type": "display_data"
    }
   ],
   "source": [
    "CorrData(tt)"
   ]
  },
  {
   "cell_type": "code",
   "execution_count": 40,
   "metadata": {},
   "outputs": [],
   "source": [
    "x_train = df.drop(['client subscribed'], axis = 1)\n",
    "y_train = df['client subscribed']\n",
    "\n",
    "x_test = df_test.drop(['client subscribed'], axis = 1)\n",
    "y_test = df_test['client subscribed']\n",
    "\n",
    "x_validation = df_validation.drop(['client subscribed'], axis = 1)\n",
    "y_validation = df_validation['client subscribed']\n"
   ]
  },
  {
   "cell_type": "code",
   "execution_count": 41,
   "metadata": {},
   "outputs": [
    {
     "name": "stdout",
     "output_type": "stream",
     "text": [
      "predictor of input dataset shape: (3720, 16)\n",
      "predictor of target dataset shape: (3720,)\n",
      "predictor of input dataset shape: (399, 16)\n",
      "predictor of target dataset shape: (399,)\n",
      "predictor of input dataset shape: (399, 16)\n",
      "predictor of target dataset shape: (399,)\n"
     ]
    }
   ],
   "source": [
    "\n",
    "print(\"predictor of input dataset shape: {shape}\".format(shape=x_train.shape))\n",
    "print(\"predictor of target dataset shape: {shape}\".format(shape=y_train.shape))\n",
    "\n",
    "print(\"predictor of input dataset shape: {shape}\".format(shape=x_validation.shape))\n",
    "print(\"predictor of target dataset shape: {shape}\".format(shape=y_validation.shape))\n",
    "\n",
    "print(\"predictor of input dataset shape: {shape}\".format(shape=x_test.shape))\n",
    "print(\"predictor of target dataset shape: {shape}\".format(shape=y_test.shape))"
   ]
  },
  {
   "cell_type": "code",
   "execution_count": 42,
   "metadata": {},
   "outputs": [],
   "source": [
    "#x_test.columns"
   ]
  },
  {
   "cell_type": "code",
   "execution_count": 43,
   "metadata": {},
   "outputs": [],
   "source": [
    "#x_validation.columns"
   ]
  },
  {
   "cell_type": "code",
   "execution_count": 44,
   "metadata": {},
   "outputs": [
    {
     "name": "stdout",
     "output_type": "stream",
     "text": [
      "434\n"
     ]
    }
   ],
   "source": [
    "print(np.count_nonzero(y_train > 0))"
   ]
  },
  {
   "cell_type": "code",
   "execution_count": 45,
   "metadata": {},
   "outputs": [
    {
     "name": "stdout",
     "output_type": "stream",
     "text": [
      "3286\n"
     ]
    }
   ],
   "source": [
    "print(np.count_nonzero(y_train == 0))"
   ]
  },
  {
   "cell_type": "code",
   "execution_count": 46,
   "metadata": {},
   "outputs": [
    {
     "data": {
      "text/plain": [
       "0       0\n",
       "1       0\n",
       "2       0\n",
       "3       0\n",
       "4       1\n",
       "       ..\n",
       "3715    0\n",
       "3716    0\n",
       "3717    1\n",
       "3718    0\n",
       "3719    0\n",
       "Name: client subscribed, Length: 3720, dtype: int64"
      ]
     },
     "execution_count": 46,
     "metadata": {},
     "output_type": "execute_result"
    }
   ],
   "source": [
    "y_train"
   ]
  },
  {
   "cell_type": "code",
   "execution_count": 47,
   "metadata": {},
   "outputs": [],
   "source": [
    "#y_validation.value_counts()"
   ]
  },
  {
   "cell_type": "code",
   "execution_count": 48,
   "metadata": {},
   "outputs": [],
   "source": [
    "#y_test.value_counts()"
   ]
  },
  {
   "cell_type": "code",
   "execution_count": 49,
   "metadata": {},
   "outputs": [
    {
     "data": {
      "text/plain": [
       "const                                   6.417919e-06\n",
       "Age                                     2.680009e-01\n",
       "Type of job                             4.851150e-01\n",
       "Marital status                          9.127403e-01\n",
       "education                               1.093451e-01\n",
       "credit in default                       3.370389e-01\n",
       "balance bank                            5.153561e-03\n",
       "has housing loan?                       7.780584e-09\n",
       "has personal loan?                      8.408970e-05\n",
       "contact communication                   2.766143e-06\n",
       "contact day of the month                3.974092e-01\n",
       "month of year                           7.182308e-01\n",
       "contact duration                       4.626821e-136\n",
       "number of contacts performed during     6.318681e-02\n",
       "number of days that passed              1.417560e-04\n",
       "number of contacts performed            1.090340e-19\n",
       "outcome of the previous marketing       1.806365e-21\n",
       "dtype: float64"
      ]
     },
     "execution_count": 49,
     "metadata": {},
     "output_type": "execute_result"
    }
   ],
   "source": [
    "import statsmodels.api as sm\n",
    "X_1 = sm.add_constant(x_train)\n",
    "#Fitting sm.OLS model\n",
    "model = sm.OLS(y_train,X_1).fit()\n",
    "model.pvalues\n"
   ]
  },
  {
   "cell_type": "code",
   "execution_count": 50,
   "metadata": {},
   "outputs": [
    {
     "name": "stdout",
     "output_type": "stream",
     "text": [
      "['balance bank', 'has housing loan?', 'has personal loan?', 'contact communication', 'contact duration', 'number of days that passed', 'number of contacts performed', 'outcome of the previous marketing']\n"
     ]
    }
   ],
   "source": [
    "#Backward Elimination\n",
    "cols = list(x_train.columns)\n",
    "pmax = 1\n",
    "while (len(cols)>0):\n",
    "    p= []\n",
    "    X_1 = x_train[cols]\n",
    "    X_1 = sm.add_constant(X_1)\n",
    "    model = sm.OLS(y_train,X_1).fit()\n",
    "    p = pd.Series(model.pvalues.values[1:],index = cols)      \n",
    "    pmax = max(p)\n",
    "    feature_with_p_max = p.idxmax()\n",
    "    if(pmax>0.05):\n",
    "        cols.remove(feature_with_p_max)\n",
    "    else:\n",
    "        break\n",
    "selected_features_BE = cols\n",
    "print(selected_features_BE)"
   ]
  },
  {
   "cell_type": "code",
   "execution_count": 51,
   "metadata": {},
   "outputs": [],
   "source": [
    "x_train = x_train[selected_features_BE]\n",
    "x_validation = x_validation[selected_features_BE]\n",
    "x_test = x_test[selected_features_BE]"
   ]
  },
  {
   "cell_type": "code",
   "execution_count": 52,
   "metadata": {},
   "outputs": [],
   "source": [
    "from imblearn.over_sampling import RandomOverSampler,SMOTE\n",
    "oversample = RandomOverSampler(sampling_strategy='minority', random_state=42)\n",
    "#oversample = SMOTE()\n",
    "# fit and apply the transform\n",
    "x_train, y_train = oversample.fit_resample(x_train, y_train)"
   ]
  },
  {
   "cell_type": "code",
   "execution_count": 53,
   "metadata": {},
   "outputs": [
    {
     "data": {
      "text/plain": [
       "<AxesSubplot:>"
      ]
     },
     "execution_count": 53,
     "metadata": {},
     "output_type": "execute_result"
    },
    {
     "data": {
      "image/png": "[encoded data removed]",
      "text/plain": [
       "<Figure size 432x288 with 1 Axes>"
      ]
     },
     "metadata": {
      "needs_background": "light"
     },
     "output_type": "display_data"
    }
   ],
   "source": [
    "y_train.hist()"
   ]
  },
  {
   "cell_type": "markdown",
   "metadata": {},
   "source": [
    "## Naive Bayes"
   ]
  },
  {
   "cell_type": "code",
   "execution_count": 54,
   "metadata": {},
   "outputs": [
    {
     "name": "stdout",
     "output_type": "stream",
     "text": [
      "Accuracy Train : 73.84357881923312\n",
      "Accuracy Test : 71.17794486215539\n",
      "Confusion Matrix : \n",
      " [[248 107]\n",
      " [  8  36]]\n",
      "Precision : 0.2517482517482518\n",
      "Recall : 0.8181818181818182\n",
      "F1-score : 0.3850267379679145\n"
     ]
    },
    {
     "data": {
      "image/png": "[encoded data removed]",
      "text/plain": [
       "<Figure size 432x288 with 2 Axes>"
      ]
     },
     "metadata": {
      "needs_background": "light"
     },
     "output_type": "display_data"
    }
   ],
   "source": [
    "from sklearn.metrics import accuracy_score, precision_score, recall_score, f1_score, confusion_matrix\n",
    "import sklearn.metrics as metrics\n",
    "from sklearn.naive_bayes import BernoulliNB\n",
    "from sklearn.metrics import plot_confusion_matrix\n",
    "bnb = BernoulliNB(binarize=0.0)\n",
    "bnb.fit(x_train, y_train)\n",
    "acc_train = bnb.score(x_train,y_train)*100\n",
    "\n",
    "\n",
    "y_pred = bnb.predict(x_validation)\n",
    "\n",
    "cm = confusion_matrix(y_validation, y_pred)\n",
    "\n",
    "acc = accuracy_score(y_validation, y_pred)*100\n",
    "pre = precision_score(y_validation, y_pred)\n",
    "recall = recall_score(y_validation, y_pred)\n",
    "f1 = f1_score(y_validation, y_pred)\n",
    "\n",
    "\n",
    "print(\"Accuracy Train :\",acc_train)\n",
    "print(\"Accuracy Test :\",acc)\n",
    "print(\"Confusion Matrix : \\n\",cm)\n",
    "print(\"Precision :\",pre)\n",
    "print(\"Recall :\",recall)\n",
    "print(\"F1-score :\",f1)\n",
    "plot_confusion_matrix(bnb, x_validation, y_validation,cmap=plt.cm.Blues)\n",
    "y_pred_test = bnb.predict(x_test)\n",
    "acc_test = accuracy_score(y_test, y_pred)*100\n",
    "recall_test = recall_score(y_test,y_pred)\n",
    "#rint(\"TEST ACC: \", acc_test)\n",
    "#rint(\"RECALL Test: \", recall_test)"
   ]
  },
  {
   "cell_type": "markdown",
   "metadata": {},
   "source": [
    "## Logistic regression"
   ]
  },
  {
   "cell_type": "code",
   "execution_count": 55,
   "metadata": {},
   "outputs": [
    {
     "name": "stdout",
     "output_type": "stream",
     "text": [
      "Accuracy Train : 79.44309190505173\n",
      "Accuracy Test : 78.94736842105263\n",
      "Confusion Matrix : \n",
      " [[281  74]\n",
      " [ 10  34]]\n",
      "Precision : 0.3148148148148148\n",
      "Recall : 0.7727272727272727\n",
      "F1-score : 0.4473684210526316\n",
      "TEST ACC:  67.66917293233082\n",
      "RECALL Test:  0.2558139534883721\n"
     ]
    },
    {
     "data": {
      "image/png": "[encoded data removed]",
      "text/plain": [
       "<Figure size 432x288 with 2 Axes>"
      ]
     },
     "metadata": {
      "needs_background": "light"
     },
     "output_type": "display_data"
    }
   ],
   "source": [
    "# standard con max_iter = 100 e C = 1.0\n",
    "from sklearn.linear_model import LogisticRegression\n",
    "\n",
    "\n",
    "lr = LogisticRegression(max_iter = 10000000000000000)\n",
    "lr.fit(x_train, y_train)\n",
    "\n",
    "acc_train = lr.score(x_train,y_train)*100\n",
    "\n",
    "\n",
    "y_pred = lr.predict(x_validation)\n",
    "\n",
    "cm = confusion_matrix(y_validation, y_pred)\n",
    "\n",
    "acc = accuracy_score(y_validation, y_pred)*100\n",
    "pre = precision_score(y_validation, y_pred)\n",
    "recall = recall_score(y_validation, y_pred)\n",
    "f1 = f1_score(y_validation, y_pred)\n",
    "\n",
    "\n",
    "print(\"Accuracy Train :\",acc_train)\n",
    "print(\"Accuracy Test :\",acc)\n",
    "print(\"Confusion Matrix : \\n\",cm)\n",
    "print(\"Precision :\",pre)\n",
    "print(\"Recall :\",recall)\n",
    "print(\"F1-score :\",f1)\n",
    "\n",
    "plot_confusion_matrix(lr, x_validation, y_validation,cmap=plt.cm.Reds)\n",
    "y_pred_test = lr.predict(x_test)\n",
    "acc_test = accuracy_score(y_test, y_pred)*100\n",
    "recall_test = recall_score(y_test,y_pred)\n",
    "print(\"TEST ACC: \", acc_test)\n",
    "print(\"RECALL Test: \", recall_test)\n"
   ]
  },
  {
   "cell_type": "code",
   "execution_count": 56,
   "metadata": {},
   "outputs": [
    {
     "name": "stdout",
     "output_type": "stream",
     "text": [
      "The accuracy train of the model is:  79.44309190505173  C :  0.1\n",
      "The accuracy test of the model is:  78.94736842105263  C :  0.1\n",
      "The recall of the model is:  0.7727272727272727  C :  0.1\n",
      "   \n"
     ]
    },
    {
     "data": {
      "image/png": "[encoded data removed]",
      "text/plain": [
       "<Figure size 432x288 with 2 Axes>"
      ]
     },
     "metadata": {
      "needs_background": "light"
     },
     "output_type": "display_data"
    }
   ],
   "source": [
    "# find the optimal parameter for logistic regression\n",
    "C = [ 0.00000001,0.00001,0.01, 0.1, 1, 10, 100, 1000]\n",
    "best_accuracy = 0\n",
    "best_train = 0\n",
    "best_C = 0\n",
    "best_recall = 0\n",
    "for i in C:\n",
    "    lr_1 = LogisticRegression(C = i, max_iter = 100000)\n",
    "    lr_1.fit(x_train, y_train)\n",
    "    y_pred_train = lr_1.predict(x_train)\n",
    "    y_pred = lr_1.predict(x_validation)\n",
    "    acc = accuracy_score(y_validation, y_pred)*100\n",
    "    acc_train = lr.score(x_train,y_train)*100\n",
    "    pre = precision_score(y_validation, y_pred)\n",
    "    recall = recall_score(y_validation, y_pred)\n",
    "    f1 = f1_score(y_validation, y_pred)\n",
    "    if acc > best_accuracy:\n",
    "            best_accuracy = acc\n",
    "            best_train = acc_train\n",
    "            best_C = i\n",
    "            best_lr = lr_1\n",
    "            best_recall = recall\n",
    "print('The accuracy train of the model is: ', best_train, ' C : ', best_C)\n",
    "print('The accuracy test of the model is: ', best_accuracy, ' C : ', best_C)\n",
    "print('The recall of the model is: ', best_recall, ' C : ', best_C)\n",
    "plot_confusion_matrix(best_lr, x_validation, y_validation,cmap=plt.cm.Greens)\n",
    "print('   ')"
   ]
  },
  {
   "cell_type": "markdown",
   "metadata": {},
   "source": [
    "## SVC Linear Kernel"
   ]
  },
  {
   "cell_type": "code",
   "execution_count": 57,
   "metadata": {},
   "outputs": [
    {
     "name": "stdout",
     "output_type": "stream",
     "text": [
      "The accuracy train of the model is:  78.69750456482045  C :  0.1\n",
      "The accuracy test of the model is:  79.9498746867168  C :  0.1\n",
      "The recall of the model is:  0.7272727272727273  C :  0.1\n",
      "   \n"
     ]
    },
    {
     "data": {
      "image/png": "[encoded data removed]",
      "text/plain": [
       "<Figure size 432x288 with 2 Axes>"
      ]
     },
     "metadata": {
      "needs_background": "light"
     },
     "output_type": "display_data"
    }
   ],
   "source": [
    "from sklearn.svm import SVC\n",
    "\n",
    "# find the optimal parameter for linear kernel\n",
    "C = [0.000001,0.00001, 0.01, 0.1, 1]\n",
    "best_accuracy = 0\n",
    "best_train = 0\n",
    "best_C = 0\n",
    "best_recall = 0\n",
    "for i in C:\n",
    "    svc = SVC(C = i, kernel = 'linear')\n",
    "    svc.fit(x_train, y_train)\n",
    "    y_pred_train = svc.predict(x_train)\n",
    "    y_pred = svc.predict(x_validation)\n",
    "    acc = accuracy_score(y_validation, y_pred)*100\n",
    "    acc_train = svc.score(x_train,y_train)*100\n",
    "    pre = precision_score(y_validation, y_pred)\n",
    "    recall = recall_score(y_validation, y_pred)\n",
    "    f1 = f1_score(y_validation, y_pred)\n",
    "    if acc > best_accuracy:\n",
    "            best_accuracy = acc\n",
    "            best_train = acc_train\n",
    "            best_recall = recall\n",
    "            best_C = i\n",
    "            best_svc = svc \n",
    "print('The accuracy train of the model is: ', best_train, ' C : ', best_C)\n",
    "print('The accuracy test of the model is: ', best_accuracy, ' C : ', best_C)\n",
    "print('The recall of the model is: ', best_recall, ' C : ', best_C)\n",
    "plot_confusion_matrix(best_svc, x_validation, y_validation,cmap=plt.cm.Greys)\n",
    "print('   ')"
   ]
  },
  {
   "cell_type": "markdown",
   "metadata": {},
   "source": [
    "## SVC Radio Kernel"
   ]
  },
  {
   "cell_type": "code",
   "execution_count": 58,
   "metadata": {},
   "outputs": [
    {
     "name": "stdout",
     "output_type": "stream",
     "text": [
      "The accuracy train of the radio kernel model is:  82.54716981132076  C :  10 gamma :  0.1\n",
      "The accuracy test of the radio kernel model is:  80.7017543859649  C :  10 gamma :  0.1\n",
      "The recall of the model is:  0.8181818181818182  C :  10\n",
      "   \n"
     ]
    },
    {
     "data": {
      "image/png": "[encoded data removed]",
      "text/plain": [
       "<Figure size 432x288 with 2 Axes>"
      ]
     },
     "metadata": {
      "needs_background": "light"
     },
     "output_type": "display_data"
    }
   ],
   "source": [
    "from sklearn.svm import SVC\n",
    "\n",
    "# find the optimal parameter for radio kernel\n",
    "C = [0.000001,0.00001, 0.01, 0.1, 1, 10]\n",
    "best_accuracy = 0\n",
    "best_train = 0\n",
    "best_C = 0\n",
    "best_gamma = 0\n",
    "best_recall = 0\n",
    "gamma = [1,0.1,0.001,0.0001, 0.00000000000001]\n",
    "for i in C:\n",
    "    for g in gamma:\n",
    "        svc = SVC(C = i, kernel = 'rbf', gamma = g)\n",
    "        svc.fit(x_train, y_train)\n",
    "        y_pred_train = svc.predict(x_train)\n",
    "        y_pred = svc.predict(x_validation)\n",
    "        acc = accuracy_score(y_validation, y_pred)*100\n",
    "        acc_train = svc.score(x_train,y_train)*100\n",
    "        pre = precision_score(y_validation, y_pred)\n",
    "        recall = recall_score(y_validation, y_pred)\n",
    "        f1 = f1_score(y_validation, y_pred)\n",
    "        if  acc > best_accuracy:\n",
    "            best_accuracy = acc\n",
    "            best_C = i\n",
    "            best_train = acc_train\n",
    "            best_recall = recall\n",
    "            best_gamma = g\n",
    "            best_svc = svc\n",
    "            \n",
    "            \n",
    "print('The accuracy train of the radio kernel model is: ', best_train, ' C : ', best_C, 'gamma : ', best_gamma)    \n",
    "print('The accuracy test of the radio kernel model is: ', best_accuracy, ' C : ', best_C, 'gamma : ', best_gamma)\n",
    "print('The recall of the model is: ', best_recall, ' C : ', best_C)\n",
    "plot_confusion_matrix(best_svc, x_validation, y_validation,cmap=plt.cm.Oranges)\n",
    "print('   ')"
   ]
  },
  {
   "cell_type": "code",
   "execution_count": 59,
   "metadata": {},
   "outputs": [
    {
     "name": "stdout",
     "output_type": "stream",
     "text": [
      "Accuracy Test : 75.6892230576441\n",
      "Confusion Matrix : \n",
      " [[293  63]\n",
      " [ 34   9]]\n"
     ]
    }
   ],
   "source": [
    "#BEST MODEL\n",
    "svc = SVC(C = 10, kernel = 'rbf', gamma = 0.1)\n",
    "svc.fit(x_train, y_train)\n",
    "y_pred_test = svc.predict(x_test)\n",
    "acc = accuracy_score(y_test, y_pred)*100\n",
    "pre = precision_score(y_test, y_pred)\n",
    "recall = recall_score(y_test, y_pred)\n",
    "f1 = f1_score(y_test, y_pred)\n",
    "cm = confusion_matrix(y_test, y_pred)\n",
    "\n",
    "print(\"Accuracy Test :\",acc)\n",
    "print(\"Confusion Matrix : \\n\",cm)\n"
   ]
  },
  {
   "cell_type": "code",
   "execution_count": null,
   "metadata": {},
   "outputs": [],
   "source": []
  }
 ],
 "metadata": {
  "kernelspec": {
   "display_name": "Python 3",
   "language": "python",
   "name": "python3"
  },
  "language_info": {
   "codemirror_mode": {
    "name": "ipython",
    "version": 3
   },
   "file_extension": ".py",
   "mimetype": "text/x-python",
   "name": "python",
   "nbconvert_exporter": "python",
   "pygments_lexer": "ipython3",
   "version": "3.7.9"
  }
 },
 "nbformat": 4,
 "nbformat_minor": 4
}
